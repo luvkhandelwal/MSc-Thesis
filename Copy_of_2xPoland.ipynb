{
  "cells": [
    {
      "cell_type": "markdown",
      "metadata": {
        "id": "view-in-github",
        "colab_type": "text"
      },
      "source": [
        "<a href=\"https://colab.research.google.com/github/luvkhandelwal/MSc-Thesis/blob/main/Copy_of_2xPoland.ipynb\" target=\"_parent\"><img src=\"https://colab.research.google.com/assets/colab-badge.svg\" alt=\"Open In Colab\"/></a>"
      ]
    },
    {
      "cell_type": "markdown",
      "metadata": {
        "id": "E_tJtZ9Z-Cmy"
      },
      "source": [
        "# **Loading Complete Data**"
      ]
    },
    {
      "cell_type": "code",
      "execution_count": null,
      "metadata": {
        "colab": {
          "base_uri": "https://localhost:8080/",
          "height": 554
        },
        "id": "byrcdxvvVMOe",
        "outputId": "ce4f616e-d018-4c66-aeda-2c6c643cdc4e"
      },
      "outputs": [
        {
          "output_type": "execute_result",
          "data": {
            "text/plain": [
              "                   new_cases_per_million  new_deaths_per_million  \\\n",
              "location                                                           \n",
              "Afghanistan                     0.000110                0.000450   \n",
              "Albania                         0.002417                0.002831   \n",
              "Algeria                         0.000148                0.000360   \n",
              "Andorra                         0.013005                0.004605   \n",
              "Angola                          0.000073                0.000131   \n",
              "...                                  ...                     ...   \n",
              "Wallis and Futuna               0.001372                0.002678   \n",
              "Western Sahara                       NaN                     NaN   \n",
              "Yemen                           0.000009                0.000161   \n",
              "Zambia                          0.000416                0.000486   \n",
              "Zimbabwe                        0.000395                0.000803   \n",
              "\n",
              "                   reproduction_rate  total_vaccinations_per_hundred  \\\n",
              "location                                                               \n",
              "Afghanistan                 0.188106                        0.019696   \n",
              "Albania                     0.184590                        0.117952   \n",
              "Algeria                     0.177534                        0.062370   \n",
              "Andorra                     0.174567                        0.222609   \n",
              "Angola                      0.179183                        0.049423   \n",
              "...                              ...                             ...   \n",
              "Wallis and Futuna                NaN                        0.225971   \n",
              "Western Sahara                   NaN                             NaN   \n",
              "Yemen                       0.164171                        0.004195   \n",
              "Zambia                      0.181124                        0.017540   \n",
              "Zimbabwe                    0.190288                        0.078767   \n",
              "\n",
              "                   stringency_index  population_density  gdp_per_capita  \\\n",
              "location                                                                  \n",
              "Afghanistan                0.353820            0.002642        0.009828   \n",
              "Albania                    0.551752            0.005097        0.095827   \n",
              "Algeria                    0.626560            0.000838        0.113977   \n",
              "Andorra                    0.442219            0.007963             NaN   \n",
              "Angola                     0.632435            0.001156        0.044363   \n",
              "...                             ...                 ...             ...   \n",
              "Wallis and Futuna               NaN                 NaN             NaN   \n",
              "Western Sahara                  NaN                 NaN             NaN   \n",
              "Yemen                      0.335638            0.002598        0.007034   \n",
              "Zambia                     0.402697            0.001112        0.026042   \n",
              "Zimbabwe                   0.655744            0.002073        0.010652   \n",
              "\n",
              "                   cardiovasc_death_rate  diabetes_prevalence  female_smokers  \\\n",
              "location                                                                        \n",
              "Afghanistan                     0.802514             0.291131             NaN   \n",
              "Albania                         0.348540             0.307718        0.159453   \n",
              "Algeria                         0.308495             0.194313        0.013667   \n",
              "Andorra                         0.046144             0.236290        0.658314   \n",
              "Angola                          0.304900             0.099865             NaN   \n",
              "...                                  ...                  ...             ...   \n",
              "Wallis and Futuna                    NaN                  NaN             NaN   \n",
              "Western Sahara                       NaN                  NaN             NaN   \n",
              "Yemen                           0.644345             0.147596        0.170843   \n",
              "Zambia                          0.240493             0.099865        0.068337   \n",
              "Zimbabwe                        0.354201             0.028097        0.034169   \n",
              "\n",
              "                   male_smokers  hospital_beds_per_thousand  life_expectancy  \n",
              "location                                                                      \n",
              "Afghanistan                 NaN                    0.036232         0.345085  \n",
              "Albania                0.617898                    0.209420         0.755602  \n",
              "Algeria                0.322443                    0.137681         0.705109  \n",
              "Andorra                0.427557                    0.000000         0.909770  \n",
              "Angola                      NaN                    0.000000         0.235136  \n",
              "...                         ...                         ...              ...  \n",
              "Wallis and Futuna           NaN                    0.000000         0.796534  \n",
              "Western Sahara              NaN                    0.000000         0.507320  \n",
              "Yemen                  0.305398                    0.050725         0.383627  \n",
              "Zambia                 0.241477                    0.144928         0.317000  \n",
              "Zimbabwe               0.326705                    0.123188         0.245294  \n",
              "\n",
              "[231 rows x 13 columns]"
            ],
            "text/html": [
              "\n",
              "  <div id=\"df-594ae36b-9b3c-448a-8798-dd648fc34b4a\">\n",
              "    <div class=\"colab-df-container\">\n",
              "      <div>\n",
              "<style scoped>\n",
              "    .dataframe tbody tr th:only-of-type {\n",
              "        vertical-align: middle;\n",
              "    }\n",
              "\n",
              "    .dataframe tbody tr th {\n",
              "        vertical-align: top;\n",
              "    }\n",
              "\n",
              "    .dataframe thead th {\n",
              "        text-align: right;\n",
              "    }\n",
              "</style>\n",
              "<table border=\"1\" class=\"dataframe\">\n",
              "  <thead>\n",
              "    <tr style=\"text-align: right;\">\n",
              "      <th></th>\n",
              "      <th>new_cases_per_million</th>\n",
              "      <th>new_deaths_per_million</th>\n",
              "      <th>reproduction_rate</th>\n",
              "      <th>total_vaccinations_per_hundred</th>\n",
              "      <th>stringency_index</th>\n",
              "      <th>population_density</th>\n",
              "      <th>gdp_per_capita</th>\n",
              "      <th>cardiovasc_death_rate</th>\n",
              "      <th>diabetes_prevalence</th>\n",
              "      <th>female_smokers</th>\n",
              "      <th>male_smokers</th>\n",
              "      <th>hospital_beds_per_thousand</th>\n",
              "      <th>life_expectancy</th>\n",
              "    </tr>\n",
              "    <tr>\n",
              "      <th>location</th>\n",
              "      <th></th>\n",
              "      <th></th>\n",
              "      <th></th>\n",
              "      <th></th>\n",
              "      <th></th>\n",
              "      <th></th>\n",
              "      <th></th>\n",
              "      <th></th>\n",
              "      <th></th>\n",
              "      <th></th>\n",
              "      <th></th>\n",
              "      <th></th>\n",
              "      <th></th>\n",
              "    </tr>\n",
              "  </thead>\n",
              "  <tbody>\n",
              "    <tr>\n",
              "      <th>Afghanistan</th>\n",
              "      <td>0.000110</td>\n",
              "      <td>0.000450</td>\n",
              "      <td>0.188106</td>\n",
              "      <td>0.019696</td>\n",
              "      <td>0.353820</td>\n",
              "      <td>0.002642</td>\n",
              "      <td>0.009828</td>\n",
              "      <td>0.802514</td>\n",
              "      <td>0.291131</td>\n",
              "      <td>NaN</td>\n",
              "      <td>NaN</td>\n",
              "      <td>0.036232</td>\n",
              "      <td>0.345085</td>\n",
              "    </tr>\n",
              "    <tr>\n",
              "      <th>Albania</th>\n",
              "      <td>0.002417</td>\n",
              "      <td>0.002831</td>\n",
              "      <td>0.184590</td>\n",
              "      <td>0.117952</td>\n",
              "      <td>0.551752</td>\n",
              "      <td>0.005097</td>\n",
              "      <td>0.095827</td>\n",
              "      <td>0.348540</td>\n",
              "      <td>0.307718</td>\n",
              "      <td>0.159453</td>\n",
              "      <td>0.617898</td>\n",
              "      <td>0.209420</td>\n",
              "      <td>0.755602</td>\n",
              "    </tr>\n",
              "    <tr>\n",
              "      <th>Algeria</th>\n",
              "      <td>0.000148</td>\n",
              "      <td>0.000360</td>\n",
              "      <td>0.177534</td>\n",
              "      <td>0.062370</td>\n",
              "      <td>0.626560</td>\n",
              "      <td>0.000838</td>\n",
              "      <td>0.113977</td>\n",
              "      <td>0.308495</td>\n",
              "      <td>0.194313</td>\n",
              "      <td>0.013667</td>\n",
              "      <td>0.322443</td>\n",
              "      <td>0.137681</td>\n",
              "      <td>0.705109</td>\n",
              "    </tr>\n",
              "    <tr>\n",
              "      <th>Andorra</th>\n",
              "      <td>0.013005</td>\n",
              "      <td>0.004605</td>\n",
              "      <td>0.174567</td>\n",
              "      <td>0.222609</td>\n",
              "      <td>0.442219</td>\n",
              "      <td>0.007963</td>\n",
              "      <td>NaN</td>\n",
              "      <td>0.046144</td>\n",
              "      <td>0.236290</td>\n",
              "      <td>0.658314</td>\n",
              "      <td>0.427557</td>\n",
              "      <td>0.000000</td>\n",
              "      <td>0.909770</td>\n",
              "    </tr>\n",
              "    <tr>\n",
              "      <th>Angola</th>\n",
              "      <td>0.000073</td>\n",
              "      <td>0.000131</td>\n",
              "      <td>0.179183</td>\n",
              "      <td>0.049423</td>\n",
              "      <td>0.632435</td>\n",
              "      <td>0.001156</td>\n",
              "      <td>0.044363</td>\n",
              "      <td>0.304900</td>\n",
              "      <td>0.099865</td>\n",
              "      <td>NaN</td>\n",
              "      <td>NaN</td>\n",
              "      <td>0.000000</td>\n",
              "      <td>0.235136</td>\n",
              "    </tr>\n",
              "    <tr>\n",
              "      <th>...</th>\n",
              "      <td>...</td>\n",
              "      <td>...</td>\n",
              "      <td>...</td>\n",
              "      <td>...</td>\n",
              "      <td>...</td>\n",
              "      <td>...</td>\n",
              "      <td>...</td>\n",
              "      <td>...</td>\n",
              "      <td>...</td>\n",
              "      <td>...</td>\n",
              "      <td>...</td>\n",
              "      <td>...</td>\n",
              "      <td>...</td>\n",
              "    </tr>\n",
              "    <tr>\n",
              "      <th>Wallis and Futuna</th>\n",
              "      <td>0.001372</td>\n",
              "      <td>0.002678</td>\n",
              "      <td>NaN</td>\n",
              "      <td>0.225971</td>\n",
              "      <td>NaN</td>\n",
              "      <td>NaN</td>\n",
              "      <td>NaN</td>\n",
              "      <td>NaN</td>\n",
              "      <td>NaN</td>\n",
              "      <td>NaN</td>\n",
              "      <td>NaN</td>\n",
              "      <td>0.000000</td>\n",
              "      <td>0.796534</td>\n",
              "    </tr>\n",
              "    <tr>\n",
              "      <th>Western Sahara</th>\n",
              "      <td>NaN</td>\n",
              "      <td>NaN</td>\n",
              "      <td>NaN</td>\n",
              "      <td>NaN</td>\n",
              "      <td>NaN</td>\n",
              "      <td>NaN</td>\n",
              "      <td>NaN</td>\n",
              "      <td>NaN</td>\n",
              "      <td>NaN</td>\n",
              "      <td>NaN</td>\n",
              "      <td>NaN</td>\n",
              "      <td>0.000000</td>\n",
              "      <td>0.507320</td>\n",
              "    </tr>\n",
              "    <tr>\n",
              "      <th>Yemen</th>\n",
              "      <td>0.000009</td>\n",
              "      <td>0.000161</td>\n",
              "      <td>0.164171</td>\n",
              "      <td>0.004195</td>\n",
              "      <td>0.335638</td>\n",
              "      <td>0.002598</td>\n",
              "      <td>0.007034</td>\n",
              "      <td>0.644345</td>\n",
              "      <td>0.147596</td>\n",
              "      <td>0.170843</td>\n",
              "      <td>0.305398</td>\n",
              "      <td>0.050725</td>\n",
              "      <td>0.383627</td>\n",
              "    </tr>\n",
              "    <tr>\n",
              "      <th>Zambia</th>\n",
              "      <td>0.000416</td>\n",
              "      <td>0.000486</td>\n",
              "      <td>0.181124</td>\n",
              "      <td>0.017540</td>\n",
              "      <td>0.402697</td>\n",
              "      <td>0.001112</td>\n",
              "      <td>0.026042</td>\n",
              "      <td>0.240493</td>\n",
              "      <td>0.099865</td>\n",
              "      <td>0.068337</td>\n",
              "      <td>0.241477</td>\n",
              "      <td>0.144928</td>\n",
              "      <td>0.317000</td>\n",
              "    </tr>\n",
              "    <tr>\n",
              "      <th>Zimbabwe</th>\n",
              "      <td>0.000395</td>\n",
              "      <td>0.000803</td>\n",
              "      <td>0.190288</td>\n",
              "      <td>0.078767</td>\n",
              "      <td>0.655744</td>\n",
              "      <td>0.002073</td>\n",
              "      <td>0.010652</td>\n",
              "      <td>0.354201</td>\n",
              "      <td>0.028097</td>\n",
              "      <td>0.034169</td>\n",
              "      <td>0.326705</td>\n",
              "      <td>0.123188</td>\n",
              "      <td>0.245294</td>\n",
              "    </tr>\n",
              "  </tbody>\n",
              "</table>\n",
              "<p>231 rows × 13 columns</p>\n",
              "</div>\n",
              "      <button class=\"colab-df-convert\" onclick=\"convertToInteractive('df-594ae36b-9b3c-448a-8798-dd648fc34b4a')\"\n",
              "              title=\"Convert this dataframe to an interactive table.\"\n",
              "              style=\"display:none;\">\n",
              "        \n",
              "  <svg xmlns=\"http://www.w3.org/2000/svg\" height=\"24px\"viewBox=\"0 0 24 24\"\n",
              "       width=\"24px\">\n",
              "    <path d=\"M0 0h24v24H0V0z\" fill=\"none\"/>\n",
              "    <path d=\"M18.56 5.44l.94 2.06.94-2.06 2.06-.94-2.06-.94-.94-2.06-.94 2.06-2.06.94zm-11 1L8.5 8.5l.94-2.06 2.06-.94-2.06-.94L8.5 2.5l-.94 2.06-2.06.94zm10 10l.94 2.06.94-2.06 2.06-.94-2.06-.94-.94-2.06-.94 2.06-2.06.94z\"/><path d=\"M17.41 7.96l-1.37-1.37c-.4-.4-.92-.59-1.43-.59-.52 0-1.04.2-1.43.59L10.3 9.45l-7.72 7.72c-.78.78-.78 2.05 0 2.83L4 21.41c.39.39.9.59 1.41.59.51 0 1.02-.2 1.41-.59l7.78-7.78 2.81-2.81c.8-.78.8-2.07 0-2.86zM5.41 20L4 18.59l7.72-7.72 1.47 1.35L5.41 20z\"/>\n",
              "  </svg>\n",
              "      </button>\n",
              "      \n",
              "  <style>\n",
              "    .colab-df-container {\n",
              "      display:flex;\n",
              "      flex-wrap:wrap;\n",
              "      gap: 12px;\n",
              "    }\n",
              "\n",
              "    .colab-df-convert {\n",
              "      background-color: #E8F0FE;\n",
              "      border: none;\n",
              "      border-radius: 50%;\n",
              "      cursor: pointer;\n",
              "      display: none;\n",
              "      fill: #1967D2;\n",
              "      height: 32px;\n",
              "      padding: 0 0 0 0;\n",
              "      width: 32px;\n",
              "    }\n",
              "\n",
              "    .colab-df-convert:hover {\n",
              "      background-color: #E2EBFA;\n",
              "      box-shadow: 0px 1px 2px rgba(60, 64, 67, 0.3), 0px 1px 3px 1px rgba(60, 64, 67, 0.15);\n",
              "      fill: #174EA6;\n",
              "    }\n",
              "\n",
              "    [theme=dark] .colab-df-convert {\n",
              "      background-color: #3B4455;\n",
              "      fill: #D2E3FC;\n",
              "    }\n",
              "\n",
              "    [theme=dark] .colab-df-convert:hover {\n",
              "      background-color: #434B5C;\n",
              "      box-shadow: 0px 1px 3px 1px rgba(0, 0, 0, 0.15);\n",
              "      filter: drop-shadow(0px 1px 2px rgba(0, 0, 0, 0.3));\n",
              "      fill: #FFFFFF;\n",
              "    }\n",
              "  </style>\n",
              "\n",
              "      <script>\n",
              "        const buttonEl =\n",
              "          document.querySelector('#df-594ae36b-9b3c-448a-8798-dd648fc34b4a button.colab-df-convert');\n",
              "        buttonEl.style.display =\n",
              "          google.colab.kernel.accessAllowed ? 'block' : 'none';\n",
              "\n",
              "        async function convertToInteractive(key) {\n",
              "          const element = document.querySelector('#df-594ae36b-9b3c-448a-8798-dd648fc34b4a');\n",
              "          const dataTable =\n",
              "            await google.colab.kernel.invokeFunction('convertToInteractive',\n",
              "                                                     [key], {});\n",
              "          if (!dataTable) return;\n",
              "\n",
              "          const docLinkHtml = 'Like what you see? Visit the ' +\n",
              "            '<a target=\"_blank\" href=https://colab.research.google.com/notebooks/data_table.ipynb>data table notebook</a>'\n",
              "            + ' to learn more about interactive tables.';\n",
              "          element.innerHTML = '';\n",
              "          dataTable['output_type'] = 'display_data';\n",
              "          await google.colab.output.renderOutput(dataTable, element);\n",
              "          const docLink = document.createElement('div');\n",
              "          docLink.innerHTML = docLinkHtml;\n",
              "          element.appendChild(docLink);\n",
              "        }\n",
              "      </script>\n",
              "    </div>\n",
              "  </div>\n",
              "  "
            ]
          },
          "metadata": {},
          "execution_count": 32
        }
      ],
      "source": [
        "import pandas as pd\n",
        "import numpy as np\n",
        "from sklearn import metrics\n",
        "import matplotlib.pyplot as plt\n",
        "from sklearn.cluster import KMeans\n",
        "from sklearn.mixture import GaussianMixture\n",
        "from sklearn.cluster import AffinityPropagation\n",
        "from sklearn.cluster import MeanShift\n",
        "from sklearn.cluster import SpectralClustering\n",
        "from sklearn.cluster import AgglomerativeClustering\n",
        "from sklearn.cluster import DBSCAN\n",
        "from keras.models import Sequential\n",
        "from keras.layers import Dense,Activation\n",
        "from sklearn import preprocessing\n",
        "from sklearn.metrics import mean_squared_error as mse\n",
        "\n",
        "unclean_data=pd.read_csv('complete_dataset_uncleaned_new.csv')\n",
        "data3=unclean_data.iloc[:,2:]\n",
        "data3.index=data3.location\n",
        "data3.pop('date')\n",
        "data3.pop('location')\n",
        "\n",
        "from sklearn.preprocessing import MinMaxScaler\n",
        "scaler= MinMaxScaler()\n",
        "scaler.fit(data3)\n",
        "c=data3.columns\n",
        "i=data3.index\n",
        "\n",
        "data2 = pd.DataFrame(scaler.transform(data3))\n",
        "\n",
        "data2.columns=c\n",
        "data2.index=i\n",
        "data2=data2.groupby('location').mean()\n",
        "data2=data2.iloc[:,:-1]\n",
        "data2"
      ]
    },
    {
      "cell_type": "code",
      "execution_count": null,
      "metadata": {
        "id": "UIKAsBJHRlOs"
      },
      "outputs": [],
      "source": [
        "seed_value= 123\n",
        "\n",
        "# 1. Set the `PYTHONHASHSEED` environment variable at a fixed value\n",
        "import os\n",
        "os.environ['PYTHONHASHSEED']=str(seed_value)\n",
        "\n",
        "# 2. Set the `python` built-in pseudo-random generator at a fixed value\n",
        "import random\n",
        "random.seed(seed_value)\n",
        "\n",
        "# 3. Set the `numpy` pseudo-random generator at a fixed value\n",
        "import numpy as np\n",
        "np.random.seed(seed_value)\n",
        "\n",
        "# 4. Set the `tensorflow` pseudo-random generator at a fixed value\n",
        "import tensorflow as tf\n",
        "tf.random.set_seed(seed_value)"
      ]
    },
    {
      "cell_type": "code",
      "execution_count": null,
      "metadata": {
        "colab": {
          "base_uri": "https://localhost:8080/",
          "height": 35
        },
        "id": "r3W1zQg-WT7m",
        "outputId": "c5586f1c-0b33-4e13-e887-de5abcad2ef2"
      },
      "outputs": [
        {
          "output_type": "execute_result",
          "data": {
            "text/plain": [
              "\"j=0\\nimportance=pd.read_csv('importance.csv')\\nimportance=np.array(importance)\\nfor i in importance:\\n  data2.iloc[:,j]=data2.iloc[:,j]*abs(i)\\n  j=j+1\\ndata2\""
            ],
            "application/vnd.google.colaboratory.intrinsic+json": {
              "type": "string"
            }
          },
          "metadata": {},
          "execution_count": 34
        }
      ],
      "source": [
        "\"\"\"j=0\n",
        "importance=pd.read_csv('importance.csv')\n",
        "importance=np.array(importance)\n",
        "for i in importance:\n",
        "  data2.iloc[:,j]=data2.iloc[:,j]*abs(i)\n",
        "  j=j+1\n",
        "data2\"\"\""
      ]
    },
    {
      "cell_type": "code",
      "execution_count": null,
      "metadata": {
        "id": "lsfaqV9FJ2jV"
      },
      "outputs": [],
      "source": [
        "def clean_dataset(df):\n",
        "    assert isinstance(df, pd.DataFrame), \"df needs to be a pd.DataFrame\"\n",
        "    df.dropna(inplace=True)\n",
        "    indices_to_keep = ~df.isin([np.nan, np.inf, -np.inf]).any(1)\n",
        "    return df[indices_to_keep].astype(np.float64)"
      ]
    },
    {
      "cell_type": "code",
      "execution_count": null,
      "metadata": {
        "colab": {
          "base_uri": "https://localhost:8080/",
          "height": 455
        },
        "id": "VdjCOSjFJ3i9",
        "outputId": "2f952040-5f9b-4d4c-fdb6-0c7cce5c0c8f"
      },
      "outputs": [
        {
          "output_type": "execute_result",
          "data": {
            "text/plain": [
              "           population_density  gdp_per_capita  cardiovasc_death_rate  \\\n",
              "location                                                               \n",
              "Albania              0.005097        0.095827               0.348540   \n",
              "Algeria              0.000838        0.113977               0.308495   \n",
              "Argentina            0.000781        0.157151               0.173107   \n",
              "Australia            0.000149        0.378308               0.044060   \n",
              "Austria              0.005189        0.385084               0.102028   \n",
              "...                       ...             ...                    ...   \n",
              "Vanuatu              0.001096        0.019443               0.723870   \n",
              "Vietnam              0.014990        0.047393               0.257493   \n",
              "Yemen                0.002598        0.007034               0.644345   \n",
              "Zambia               0.001112        0.026042               0.240493   \n",
              "Zimbabwe             0.002073        0.010652               0.354201   \n",
              "\n",
              "           diabetes_prevalence  female_smokers  male_smokers  \\\n",
              "location                                                       \n",
              "Albania               0.307718        0.159453      0.617898   \n",
              "Algeria               0.194313        0.013667      0.322443   \n",
              "Argentina             0.152674        0.366743      0.284091   \n",
              "Australia             0.138118        0.293850      0.125000   \n",
              "Austria               0.181449        0.644647      0.329545   \n",
              "...                        ...             ...           ...   \n",
              "Vanuatu               0.373392        0.061503      0.380682   \n",
              "Vietnam               0.169601        0.020501      0.542614   \n",
              "Yemen                 0.147596        0.170843      0.305398   \n",
              "Zambia                0.099865        0.068337      0.241477   \n",
              "Zimbabwe              0.028097        0.034169      0.326705   \n",
              "\n",
              "           hospital_beds_per_thousand  life_expectancy  \n",
              "location                                                \n",
              "Albania                      0.209420         0.755602  \n",
              "Algeria                      0.137681         0.705109  \n",
              "Argentina                    0.362319         0.698835  \n",
              "Australia                    0.278261         0.901105  \n",
              "Austria                      0.534058         0.844338  \n",
              "...                               ...              ...  \n",
              "Vanuatu                      0.000000         0.513594  \n",
              "Vietnam                      0.188406         0.660890  \n",
              "Yemen                        0.050725         0.383627  \n",
              "Zambia                       0.144928         0.317000  \n",
              "Zimbabwe                     0.123188         0.245294  \n",
              "\n",
              "[134 rows x 8 columns]"
            ],
            "text/html": [
              "\n",
              "  <div id=\"df-9174584f-416d-4535-aeb1-604880f131d0\">\n",
              "    <div class=\"colab-df-container\">\n",
              "      <div>\n",
              "<style scoped>\n",
              "    .dataframe tbody tr th:only-of-type {\n",
              "        vertical-align: middle;\n",
              "    }\n",
              "\n",
              "    .dataframe tbody tr th {\n",
              "        vertical-align: top;\n",
              "    }\n",
              "\n",
              "    .dataframe thead th {\n",
              "        text-align: right;\n",
              "    }\n",
              "</style>\n",
              "<table border=\"1\" class=\"dataframe\">\n",
              "  <thead>\n",
              "    <tr style=\"text-align: right;\">\n",
              "      <th></th>\n",
              "      <th>population_density</th>\n",
              "      <th>gdp_per_capita</th>\n",
              "      <th>cardiovasc_death_rate</th>\n",
              "      <th>diabetes_prevalence</th>\n",
              "      <th>female_smokers</th>\n",
              "      <th>male_smokers</th>\n",
              "      <th>hospital_beds_per_thousand</th>\n",
              "      <th>life_expectancy</th>\n",
              "    </tr>\n",
              "    <tr>\n",
              "      <th>location</th>\n",
              "      <th></th>\n",
              "      <th></th>\n",
              "      <th></th>\n",
              "      <th></th>\n",
              "      <th></th>\n",
              "      <th></th>\n",
              "      <th></th>\n",
              "      <th></th>\n",
              "    </tr>\n",
              "  </thead>\n",
              "  <tbody>\n",
              "    <tr>\n",
              "      <th>Albania</th>\n",
              "      <td>0.005097</td>\n",
              "      <td>0.095827</td>\n",
              "      <td>0.348540</td>\n",
              "      <td>0.307718</td>\n",
              "      <td>0.159453</td>\n",
              "      <td>0.617898</td>\n",
              "      <td>0.209420</td>\n",
              "      <td>0.755602</td>\n",
              "    </tr>\n",
              "    <tr>\n",
              "      <th>Algeria</th>\n",
              "      <td>0.000838</td>\n",
              "      <td>0.113977</td>\n",
              "      <td>0.308495</td>\n",
              "      <td>0.194313</td>\n",
              "      <td>0.013667</td>\n",
              "      <td>0.322443</td>\n",
              "      <td>0.137681</td>\n",
              "      <td>0.705109</td>\n",
              "    </tr>\n",
              "    <tr>\n",
              "      <th>Argentina</th>\n",
              "      <td>0.000781</td>\n",
              "      <td>0.157151</td>\n",
              "      <td>0.173107</td>\n",
              "      <td>0.152674</td>\n",
              "      <td>0.366743</td>\n",
              "      <td>0.284091</td>\n",
              "      <td>0.362319</td>\n",
              "      <td>0.698835</td>\n",
              "    </tr>\n",
              "    <tr>\n",
              "      <th>Australia</th>\n",
              "      <td>0.000149</td>\n",
              "      <td>0.378308</td>\n",
              "      <td>0.044060</td>\n",
              "      <td>0.138118</td>\n",
              "      <td>0.293850</td>\n",
              "      <td>0.125000</td>\n",
              "      <td>0.278261</td>\n",
              "      <td>0.901105</td>\n",
              "    </tr>\n",
              "    <tr>\n",
              "      <th>Austria</th>\n",
              "      <td>0.005189</td>\n",
              "      <td>0.385084</td>\n",
              "      <td>0.102028</td>\n",
              "      <td>0.181449</td>\n",
              "      <td>0.644647</td>\n",
              "      <td>0.329545</td>\n",
              "      <td>0.534058</td>\n",
              "      <td>0.844338</td>\n",
              "    </tr>\n",
              "    <tr>\n",
              "      <th>...</th>\n",
              "      <td>...</td>\n",
              "      <td>...</td>\n",
              "      <td>...</td>\n",
              "      <td>...</td>\n",
              "      <td>...</td>\n",
              "      <td>...</td>\n",
              "      <td>...</td>\n",
              "      <td>...</td>\n",
              "    </tr>\n",
              "    <tr>\n",
              "      <th>Vanuatu</th>\n",
              "      <td>0.001096</td>\n",
              "      <td>0.019443</td>\n",
              "      <td>0.723870</td>\n",
              "      <td>0.373392</td>\n",
              "      <td>0.061503</td>\n",
              "      <td>0.380682</td>\n",
              "      <td>0.000000</td>\n",
              "      <td>0.513594</td>\n",
              "    </tr>\n",
              "    <tr>\n",
              "      <th>Vietnam</th>\n",
              "      <td>0.014990</td>\n",
              "      <td>0.047393</td>\n",
              "      <td>0.257493</td>\n",
              "      <td>0.169601</td>\n",
              "      <td>0.020501</td>\n",
              "      <td>0.542614</td>\n",
              "      <td>0.188406</td>\n",
              "      <td>0.660890</td>\n",
              "    </tr>\n",
              "    <tr>\n",
              "      <th>Yemen</th>\n",
              "      <td>0.002598</td>\n",
              "      <td>0.007034</td>\n",
              "      <td>0.644345</td>\n",
              "      <td>0.147596</td>\n",
              "      <td>0.170843</td>\n",
              "      <td>0.305398</td>\n",
              "      <td>0.050725</td>\n",
              "      <td>0.383627</td>\n",
              "    </tr>\n",
              "    <tr>\n",
              "      <th>Zambia</th>\n",
              "      <td>0.001112</td>\n",
              "      <td>0.026042</td>\n",
              "      <td>0.240493</td>\n",
              "      <td>0.099865</td>\n",
              "      <td>0.068337</td>\n",
              "      <td>0.241477</td>\n",
              "      <td>0.144928</td>\n",
              "      <td>0.317000</td>\n",
              "    </tr>\n",
              "    <tr>\n",
              "      <th>Zimbabwe</th>\n",
              "      <td>0.002073</td>\n",
              "      <td>0.010652</td>\n",
              "      <td>0.354201</td>\n",
              "      <td>0.028097</td>\n",
              "      <td>0.034169</td>\n",
              "      <td>0.326705</td>\n",
              "      <td>0.123188</td>\n",
              "      <td>0.245294</td>\n",
              "    </tr>\n",
              "  </tbody>\n",
              "</table>\n",
              "<p>134 rows × 8 columns</p>\n",
              "</div>\n",
              "      <button class=\"colab-df-convert\" onclick=\"convertToInteractive('df-9174584f-416d-4535-aeb1-604880f131d0')\"\n",
              "              title=\"Convert this dataframe to an interactive table.\"\n",
              "              style=\"display:none;\">\n",
              "        \n",
              "  <svg xmlns=\"http://www.w3.org/2000/svg\" height=\"24px\"viewBox=\"0 0 24 24\"\n",
              "       width=\"24px\">\n",
              "    <path d=\"M0 0h24v24H0V0z\" fill=\"none\"/>\n",
              "    <path d=\"M18.56 5.44l.94 2.06.94-2.06 2.06-.94-2.06-.94-.94-2.06-.94 2.06-2.06.94zm-11 1L8.5 8.5l.94-2.06 2.06-.94-2.06-.94L8.5 2.5l-.94 2.06-2.06.94zm10 10l.94 2.06.94-2.06 2.06-.94-2.06-.94-.94-2.06-.94 2.06-2.06.94z\"/><path d=\"M17.41 7.96l-1.37-1.37c-.4-.4-.92-.59-1.43-.59-.52 0-1.04.2-1.43.59L10.3 9.45l-7.72 7.72c-.78.78-.78 2.05 0 2.83L4 21.41c.39.39.9.59 1.41.59.51 0 1.02-.2 1.41-.59l7.78-7.78 2.81-2.81c.8-.78.8-2.07 0-2.86zM5.41 20L4 18.59l7.72-7.72 1.47 1.35L5.41 20z\"/>\n",
              "  </svg>\n",
              "      </button>\n",
              "      \n",
              "  <style>\n",
              "    .colab-df-container {\n",
              "      display:flex;\n",
              "      flex-wrap:wrap;\n",
              "      gap: 12px;\n",
              "    }\n",
              "\n",
              "    .colab-df-convert {\n",
              "      background-color: #E8F0FE;\n",
              "      border: none;\n",
              "      border-radius: 50%;\n",
              "      cursor: pointer;\n",
              "      display: none;\n",
              "      fill: #1967D2;\n",
              "      height: 32px;\n",
              "      padding: 0 0 0 0;\n",
              "      width: 32px;\n",
              "    }\n",
              "\n",
              "    .colab-df-convert:hover {\n",
              "      background-color: #E2EBFA;\n",
              "      box-shadow: 0px 1px 2px rgba(60, 64, 67, 0.3), 0px 1px 3px 1px rgba(60, 64, 67, 0.15);\n",
              "      fill: #174EA6;\n",
              "    }\n",
              "\n",
              "    [theme=dark] .colab-df-convert {\n",
              "      background-color: #3B4455;\n",
              "      fill: #D2E3FC;\n",
              "    }\n",
              "\n",
              "    [theme=dark] .colab-df-convert:hover {\n",
              "      background-color: #434B5C;\n",
              "      box-shadow: 0px 1px 3px 1px rgba(0, 0, 0, 0.15);\n",
              "      filter: drop-shadow(0px 1px 2px rgba(0, 0, 0, 0.3));\n",
              "      fill: #FFFFFF;\n",
              "    }\n",
              "  </style>\n",
              "\n",
              "      <script>\n",
              "        const buttonEl =\n",
              "          document.querySelector('#df-9174584f-416d-4535-aeb1-604880f131d0 button.colab-df-convert');\n",
              "        buttonEl.style.display =\n",
              "          google.colab.kernel.accessAllowed ? 'block' : 'none';\n",
              "\n",
              "        async function convertToInteractive(key) {\n",
              "          const element = document.querySelector('#df-9174584f-416d-4535-aeb1-604880f131d0');\n",
              "          const dataTable =\n",
              "            await google.colab.kernel.invokeFunction('convertToInteractive',\n",
              "                                                     [key], {});\n",
              "          if (!dataTable) return;\n",
              "\n",
              "          const docLinkHtml = 'Like what you see? Visit the ' +\n",
              "            '<a target=\"_blank\" href=https://colab.research.google.com/notebooks/data_table.ipynb>data table notebook</a>'\n",
              "            + ' to learn more about interactive tables.';\n",
              "          element.innerHTML = '';\n",
              "          dataTable['output_type'] = 'display_data';\n",
              "          await google.colab.output.renderOutput(dataTable, element);\n",
              "          const docLink = document.createElement('div');\n",
              "          docLink.innerHTML = docLinkHtml;\n",
              "          element.appendChild(docLink);\n",
              "        }\n",
              "      </script>\n",
              "    </div>\n",
              "  </div>\n",
              "  "
            ]
          },
          "metadata": {},
          "execution_count": 36
        }
      ],
      "source": [
        "data2=clean_dataset(data2)\n",
        "temp_df=data2.iloc[:,5:]\n",
        "temp_df"
      ]
    },
    {
      "cell_type": "code",
      "execution_count": null,
      "metadata": {
        "id": "WzuyQkADYiyy"
      },
      "outputs": [],
      "source": [
        "#data=clean_dataset(data.iloc[:,1:])\n",
        "#data=pd.DataFrame(scaler.inverse_transform(scaled_data))\n",
        "#data"
      ]
    },
    {
      "cell_type": "code",
      "execution_count": null,
      "metadata": {
        "colab": {
          "base_uri": "https://localhost:8080/"
        },
        "id": "WE-_wgVzKu6H",
        "outputId": "6bbde240-74f7-4ee7-fa93-15ec042dafcb"
      },
      "outputs": [
        {
          "output_type": "execute_result",
          "data": {
            "text/plain": [
              "(1, 8)"
            ]
          },
          "metadata": {},
          "execution_count": 45
        }
      ],
      "source": [
        "Ind=pd.DataFrame(temp_df[temp_df.index=='Poland'])\n",
        "Ind.shape"
      ]
    },
    {
      "cell_type": "markdown",
      "metadata": {
        "id": "2oQzPz6EVs9t"
      },
      "source": [
        "# Finding Nearest Neighbour of Target Country"
      ]
    },
    {
      "cell_type": "code",
      "source": [
        "Ind"
      ],
      "metadata": {
        "colab": {
          "base_uri": "https://localhost:8080/",
          "height": 112
        },
        "id": "qd_objaKDJz_",
        "outputId": "311bbd58-8517-4062-fd4d-6588eb9ea7db"
      },
      "execution_count": null,
      "outputs": [
        {
          "output_type": "execute_result",
          "data": {
            "text/plain": [
              "          population_density  gdp_per_capita  cardiovasc_death_rate  \\\n",
              "location                                                              \n",
              "Poland               0.00603        0.228384                0.22938   \n",
              "\n",
              "          diabetes_prevalence  female_smokers  male_smokers  \\\n",
              "location                                                      \n",
              "Poland               0.166554        0.528474      0.360795   \n",
              "\n",
              "          hospital_beds_per_thousand  life_expectancy  \n",
              "location                                               \n",
              "Poland                       0.47971         0.760382  "
            ],
            "text/html": [
              "\n",
              "  <div id=\"df-f79940c6-3697-4e02-8c5b-dd7ab0e63228\">\n",
              "    <div class=\"colab-df-container\">\n",
              "      <div>\n",
              "<style scoped>\n",
              "    .dataframe tbody tr th:only-of-type {\n",
              "        vertical-align: middle;\n",
              "    }\n",
              "\n",
              "    .dataframe tbody tr th {\n",
              "        vertical-align: top;\n",
              "    }\n",
              "\n",
              "    .dataframe thead th {\n",
              "        text-align: right;\n",
              "    }\n",
              "</style>\n",
              "<table border=\"1\" class=\"dataframe\">\n",
              "  <thead>\n",
              "    <tr style=\"text-align: right;\">\n",
              "      <th></th>\n",
              "      <th>population_density</th>\n",
              "      <th>gdp_per_capita</th>\n",
              "      <th>cardiovasc_death_rate</th>\n",
              "      <th>diabetes_prevalence</th>\n",
              "      <th>female_smokers</th>\n",
              "      <th>male_smokers</th>\n",
              "      <th>hospital_beds_per_thousand</th>\n",
              "      <th>life_expectancy</th>\n",
              "    </tr>\n",
              "    <tr>\n",
              "      <th>location</th>\n",
              "      <th></th>\n",
              "      <th></th>\n",
              "      <th></th>\n",
              "      <th></th>\n",
              "      <th></th>\n",
              "      <th></th>\n",
              "      <th></th>\n",
              "      <th></th>\n",
              "    </tr>\n",
              "  </thead>\n",
              "  <tbody>\n",
              "    <tr>\n",
              "      <th>Poland</th>\n",
              "      <td>0.00603</td>\n",
              "      <td>0.228384</td>\n",
              "      <td>0.22938</td>\n",
              "      <td>0.166554</td>\n",
              "      <td>0.528474</td>\n",
              "      <td>0.360795</td>\n",
              "      <td>0.47971</td>\n",
              "      <td>0.760382</td>\n",
              "    </tr>\n",
              "  </tbody>\n",
              "</table>\n",
              "</div>\n",
              "      <button class=\"colab-df-convert\" onclick=\"convertToInteractive('df-f79940c6-3697-4e02-8c5b-dd7ab0e63228')\"\n",
              "              title=\"Convert this dataframe to an interactive table.\"\n",
              "              style=\"display:none;\">\n",
              "        \n",
              "  <svg xmlns=\"http://www.w3.org/2000/svg\" height=\"24px\"viewBox=\"0 0 24 24\"\n",
              "       width=\"24px\">\n",
              "    <path d=\"M0 0h24v24H0V0z\" fill=\"none\"/>\n",
              "    <path d=\"M18.56 5.44l.94 2.06.94-2.06 2.06-.94-2.06-.94-.94-2.06-.94 2.06-2.06.94zm-11 1L8.5 8.5l.94-2.06 2.06-.94-2.06-.94L8.5 2.5l-.94 2.06-2.06.94zm10 10l.94 2.06.94-2.06 2.06-.94-2.06-.94-.94-2.06-.94 2.06-2.06.94z\"/><path d=\"M17.41 7.96l-1.37-1.37c-.4-.4-.92-.59-1.43-.59-.52 0-1.04.2-1.43.59L10.3 9.45l-7.72 7.72c-.78.78-.78 2.05 0 2.83L4 21.41c.39.39.9.59 1.41.59.51 0 1.02-.2 1.41-.59l7.78-7.78 2.81-2.81c.8-.78.8-2.07 0-2.86zM5.41 20L4 18.59l7.72-7.72 1.47 1.35L5.41 20z\"/>\n",
              "  </svg>\n",
              "      </button>\n",
              "      \n",
              "  <style>\n",
              "    .colab-df-container {\n",
              "      display:flex;\n",
              "      flex-wrap:wrap;\n",
              "      gap: 12px;\n",
              "    }\n",
              "\n",
              "    .colab-df-convert {\n",
              "      background-color: #E8F0FE;\n",
              "      border: none;\n",
              "      border-radius: 50%;\n",
              "      cursor: pointer;\n",
              "      display: none;\n",
              "      fill: #1967D2;\n",
              "      height: 32px;\n",
              "      padding: 0 0 0 0;\n",
              "      width: 32px;\n",
              "    }\n",
              "\n",
              "    .colab-df-convert:hover {\n",
              "      background-color: #E2EBFA;\n",
              "      box-shadow: 0px 1px 2px rgba(60, 64, 67, 0.3), 0px 1px 3px 1px rgba(60, 64, 67, 0.15);\n",
              "      fill: #174EA6;\n",
              "    }\n",
              "\n",
              "    [theme=dark] .colab-df-convert {\n",
              "      background-color: #3B4455;\n",
              "      fill: #D2E3FC;\n",
              "    }\n",
              "\n",
              "    [theme=dark] .colab-df-convert:hover {\n",
              "      background-color: #434B5C;\n",
              "      box-shadow: 0px 1px 3px 1px rgba(0, 0, 0, 0.15);\n",
              "      filter: drop-shadow(0px 1px 2px rgba(0, 0, 0, 0.3));\n",
              "      fill: #FFFFFF;\n",
              "    }\n",
              "  </style>\n",
              "\n",
              "      <script>\n",
              "        const buttonEl =\n",
              "          document.querySelector('#df-f79940c6-3697-4e02-8c5b-dd7ab0e63228 button.colab-df-convert');\n",
              "        buttonEl.style.display =\n",
              "          google.colab.kernel.accessAllowed ? 'block' : 'none';\n",
              "\n",
              "        async function convertToInteractive(key) {\n",
              "          const element = document.querySelector('#df-f79940c6-3697-4e02-8c5b-dd7ab0e63228');\n",
              "          const dataTable =\n",
              "            await google.colab.kernel.invokeFunction('convertToInteractive',\n",
              "                                                     [key], {});\n",
              "          if (!dataTable) return;\n",
              "\n",
              "          const docLinkHtml = 'Like what you see? Visit the ' +\n",
              "            '<a target=\"_blank\" href=https://colab.research.google.com/notebooks/data_table.ipynb>data table notebook</a>'\n",
              "            + ' to learn more about interactive tables.';\n",
              "          element.innerHTML = '';\n",
              "          dataTable['output_type'] = 'display_data';\n",
              "          await google.colab.output.renderOutput(dataTable, element);\n",
              "          const docLink = document.createElement('div');\n",
              "          docLink.innerHTML = docLinkHtml;\n",
              "          element.appendChild(docLink);\n",
              "        }\n",
              "      </script>\n",
              "    </div>\n",
              "  </div>\n",
              "  "
            ]
          },
          "metadata": {},
          "execution_count": 46
        }
      ]
    },
    {
      "cell_type": "code",
      "source": [
        "for index,row in temp_df.iterrows():\n",
        "  row=pd.DataFrame(row)\n",
        "  row=row.transpose()\n",
        "  print(row.shape)"
      ],
      "metadata": {
        "colab": {
          "base_uri": "https://localhost:8080/"
        },
        "id": "HSuzAdDsMZO7",
        "outputId": "2996da01-547f-4189-addf-bf58a4a947c1"
      },
      "execution_count": null,
      "outputs": [
        {
          "output_type": "stream",
          "name": "stdout",
          "text": [
            "<class 'pandas.core.frame.DataFrame'>\n",
            "<class 'pandas.core.frame.DataFrame'>\n",
            "<class 'pandas.core.frame.DataFrame'>\n",
            "<class 'pandas.core.frame.DataFrame'>\n",
            "<class 'pandas.core.frame.DataFrame'>\n",
            "<class 'pandas.core.frame.DataFrame'>\n",
            "<class 'pandas.core.frame.DataFrame'>\n",
            "<class 'pandas.core.frame.DataFrame'>\n",
            "<class 'pandas.core.frame.DataFrame'>\n",
            "<class 'pandas.core.frame.DataFrame'>\n",
            "<class 'pandas.core.frame.DataFrame'>\n",
            "<class 'pandas.core.frame.DataFrame'>\n",
            "<class 'pandas.core.frame.DataFrame'>\n",
            "<class 'pandas.core.frame.DataFrame'>\n",
            "<class 'pandas.core.frame.DataFrame'>\n",
            "<class 'pandas.core.frame.DataFrame'>\n",
            "<class 'pandas.core.frame.DataFrame'>\n",
            "<class 'pandas.core.frame.DataFrame'>\n",
            "<class 'pandas.core.frame.DataFrame'>\n",
            "<class 'pandas.core.frame.DataFrame'>\n",
            "<class 'pandas.core.frame.DataFrame'>\n",
            "<class 'pandas.core.frame.DataFrame'>\n",
            "<class 'pandas.core.frame.DataFrame'>\n",
            "<class 'pandas.core.frame.DataFrame'>\n",
            "<class 'pandas.core.frame.DataFrame'>\n",
            "<class 'pandas.core.frame.DataFrame'>\n",
            "<class 'pandas.core.frame.DataFrame'>\n",
            "<class 'pandas.core.frame.DataFrame'>\n",
            "<class 'pandas.core.frame.DataFrame'>\n",
            "<class 'pandas.core.frame.DataFrame'>\n",
            "<class 'pandas.core.frame.DataFrame'>\n",
            "<class 'pandas.core.frame.DataFrame'>\n",
            "<class 'pandas.core.frame.DataFrame'>\n",
            "<class 'pandas.core.frame.DataFrame'>\n",
            "<class 'pandas.core.frame.DataFrame'>\n",
            "<class 'pandas.core.frame.DataFrame'>\n",
            "<class 'pandas.core.frame.DataFrame'>\n",
            "<class 'pandas.core.frame.DataFrame'>\n",
            "<class 'pandas.core.frame.DataFrame'>\n",
            "<class 'pandas.core.frame.DataFrame'>\n",
            "<class 'pandas.core.frame.DataFrame'>\n",
            "<class 'pandas.core.frame.DataFrame'>\n",
            "<class 'pandas.core.frame.DataFrame'>\n",
            "<class 'pandas.core.frame.DataFrame'>\n",
            "<class 'pandas.core.frame.DataFrame'>\n",
            "<class 'pandas.core.frame.DataFrame'>\n",
            "<class 'pandas.core.frame.DataFrame'>\n",
            "<class 'pandas.core.frame.DataFrame'>\n",
            "<class 'pandas.core.frame.DataFrame'>\n",
            "<class 'pandas.core.frame.DataFrame'>\n",
            "<class 'pandas.core.frame.DataFrame'>\n",
            "<class 'pandas.core.frame.DataFrame'>\n",
            "<class 'pandas.core.frame.DataFrame'>\n",
            "<class 'pandas.core.frame.DataFrame'>\n",
            "<class 'pandas.core.frame.DataFrame'>\n",
            "<class 'pandas.core.frame.DataFrame'>\n",
            "<class 'pandas.core.frame.DataFrame'>\n",
            "<class 'pandas.core.frame.DataFrame'>\n",
            "<class 'pandas.core.frame.DataFrame'>\n",
            "<class 'pandas.core.frame.DataFrame'>\n",
            "<class 'pandas.core.frame.DataFrame'>\n",
            "<class 'pandas.core.frame.DataFrame'>\n",
            "<class 'pandas.core.frame.DataFrame'>\n",
            "<class 'pandas.core.frame.DataFrame'>\n",
            "<class 'pandas.core.frame.DataFrame'>\n",
            "<class 'pandas.core.frame.DataFrame'>\n",
            "<class 'pandas.core.frame.DataFrame'>\n",
            "<class 'pandas.core.frame.DataFrame'>\n",
            "<class 'pandas.core.frame.DataFrame'>\n",
            "<class 'pandas.core.frame.DataFrame'>\n",
            "<class 'pandas.core.frame.DataFrame'>\n",
            "<class 'pandas.core.frame.DataFrame'>\n",
            "<class 'pandas.core.frame.DataFrame'>\n",
            "<class 'pandas.core.frame.DataFrame'>\n",
            "<class 'pandas.core.frame.DataFrame'>\n",
            "<class 'pandas.core.frame.DataFrame'>\n",
            "<class 'pandas.core.frame.DataFrame'>\n",
            "<class 'pandas.core.frame.DataFrame'>\n",
            "<class 'pandas.core.frame.DataFrame'>\n",
            "<class 'pandas.core.frame.DataFrame'>\n",
            "<class 'pandas.core.frame.DataFrame'>\n",
            "<class 'pandas.core.frame.DataFrame'>\n",
            "<class 'pandas.core.frame.DataFrame'>\n",
            "<class 'pandas.core.frame.DataFrame'>\n",
            "<class 'pandas.core.frame.DataFrame'>\n",
            "<class 'pandas.core.frame.DataFrame'>\n",
            "<class 'pandas.core.frame.DataFrame'>\n",
            "<class 'pandas.core.frame.DataFrame'>\n",
            "<class 'pandas.core.frame.DataFrame'>\n",
            "<class 'pandas.core.frame.DataFrame'>\n",
            "<class 'pandas.core.frame.DataFrame'>\n",
            "<class 'pandas.core.frame.DataFrame'>\n",
            "<class 'pandas.core.frame.DataFrame'>\n",
            "<class 'pandas.core.frame.DataFrame'>\n",
            "<class 'pandas.core.frame.DataFrame'>\n",
            "<class 'pandas.core.frame.DataFrame'>\n",
            "<class 'pandas.core.frame.DataFrame'>\n",
            "<class 'pandas.core.frame.DataFrame'>\n",
            "<class 'pandas.core.frame.DataFrame'>\n",
            "<class 'pandas.core.frame.DataFrame'>\n",
            "<class 'pandas.core.frame.DataFrame'>\n",
            "<class 'pandas.core.frame.DataFrame'>\n",
            "<class 'pandas.core.frame.DataFrame'>\n",
            "<class 'pandas.core.frame.DataFrame'>\n",
            "<class 'pandas.core.frame.DataFrame'>\n",
            "<class 'pandas.core.frame.DataFrame'>\n",
            "<class 'pandas.core.frame.DataFrame'>\n",
            "<class 'pandas.core.frame.DataFrame'>\n",
            "<class 'pandas.core.frame.DataFrame'>\n",
            "<class 'pandas.core.frame.DataFrame'>\n",
            "<class 'pandas.core.frame.DataFrame'>\n",
            "<class 'pandas.core.frame.DataFrame'>\n",
            "<class 'pandas.core.frame.DataFrame'>\n",
            "<class 'pandas.core.frame.DataFrame'>\n",
            "<class 'pandas.core.frame.DataFrame'>\n",
            "<class 'pandas.core.frame.DataFrame'>\n",
            "<class 'pandas.core.frame.DataFrame'>\n",
            "<class 'pandas.core.frame.DataFrame'>\n",
            "<class 'pandas.core.frame.DataFrame'>\n",
            "<class 'pandas.core.frame.DataFrame'>\n",
            "<class 'pandas.core.frame.DataFrame'>\n",
            "<class 'pandas.core.frame.DataFrame'>\n",
            "<class 'pandas.core.frame.DataFrame'>\n",
            "<class 'pandas.core.frame.DataFrame'>\n",
            "<class 'pandas.core.frame.DataFrame'>\n",
            "<class 'pandas.core.frame.DataFrame'>\n",
            "<class 'pandas.core.frame.DataFrame'>\n",
            "<class 'pandas.core.frame.DataFrame'>\n",
            "<class 'pandas.core.frame.DataFrame'>\n",
            "<class 'pandas.core.frame.DataFrame'>\n",
            "<class 'pandas.core.frame.DataFrame'>\n",
            "<class 'pandas.core.frame.DataFrame'>\n",
            "<class 'pandas.core.frame.DataFrame'>\n",
            "<class 'pandas.core.frame.DataFrame'>\n"
          ]
        }
      ]
    },
    {
      "cell_type": "code",
      "execution_count": null,
      "metadata": {
        "id": "BTjAYCDfLNBW",
        "colab": {
          "base_uri": "https://localhost:8080/",
          "height": 252
        },
        "outputId": "77cb0fed-3055-4d37-ee56-f0b366f4cf3e"
      },
      "outputs": [
        {
          "output_type": "stream",
          "name": "stdout",
          "text": [
            "(1, 8) (1, 8)\n"
          ]
        },
        {
          "output_type": "error",
          "ename": "TypeError",
          "evalue": "ignored",
          "traceback": [
            "\u001b[0;31m---------------------------------------------------------------------------\u001b[0m",
            "\u001b[0;31mTypeError\u001b[0m                                 Traceback (most recent call last)",
            "\u001b[0;32m<ipython-input-59-61567627d92a>\u001b[0m in \u001b[0;36m<module>\u001b[0;34m\u001b[0m\n\u001b[1;32m      8\u001b[0m   \u001b[0;31m#print(type(a),type(row))\u001b[0m\u001b[0;34m\u001b[0m\u001b[0;34m\u001b[0m\u001b[0m\n\u001b[1;32m      9\u001b[0m   \u001b[0mprint\u001b[0m\u001b[0;34m(\u001b[0m\u001b[0ma\u001b[0m\u001b[0;34m.\u001b[0m\u001b[0mshape\u001b[0m\u001b[0;34m,\u001b[0m\u001b[0mrow\u001b[0m\u001b[0;34m.\u001b[0m\u001b[0mshape\u001b[0m\u001b[0;34m)\u001b[0m\u001b[0;34m\u001b[0m\u001b[0;34m\u001b[0m\u001b[0m\n\u001b[0;32m---> 10\u001b[0;31m   \u001b[0mdst\u001b[0m \u001b[0;34m=\u001b[0m \u001b[0mdist\u001b[0m\u001b[0;34m(\u001b[0m\u001b[0ma\u001b[0m\u001b[0;34m,\u001b[0m\u001b[0mrow\u001b[0m\u001b[0;34m)\u001b[0m\u001b[0;34m\u001b[0m\u001b[0;34m\u001b[0m\u001b[0m\n\u001b[0m\u001b[1;32m     11\u001b[0m   \u001b[0;31m#dist.append(dst)\u001b[0m\u001b[0;34m\u001b[0m\u001b[0;34m\u001b[0m\u001b[0m\n\u001b[1;32m     12\u001b[0m \u001b[0;34m\u001b[0m\u001b[0m\n",
            "\u001b[0;31mTypeError\u001b[0m: must be real number, not str"
          ]
        }
      ],
      "source": [
        "dist=[]\n",
        "a=Ind\n",
        "from math import dist\n",
        "#from scipy.spatial import distance\n",
        "for index,row in temp_df.iterrows():\n",
        "  row=pd.DataFrame(row)\n",
        "  row=row.transpose()\n",
        "  #print(type(a),type(row))\n",
        "  print(a.shape,row.shape)\n",
        "  dst = dist(a,row)\n",
        "  #dist.append(dst)\n"
      ]
    },
    {
      "cell_type": "code",
      "execution_count": null,
      "metadata": {
        "id": "OCoXWCX-Nq54"
      },
      "outputs": [],
      "source": [
        "dst_target=pd.DataFrame(dist,temp_df.index)\n",
        "dst_target.columns=['distance']\n",
        "dst_target"
      ]
    },
    {
      "cell_type": "code",
      "execution_count": null,
      "metadata": {
        "id": "J9a1ss7nd452"
      },
      "outputs": [],
      "source": [
        "dst_target=dst_target.sort_values(by=['distance'])\n",
        "dst_target"
      ]
    },
    {
      "cell_type": "code",
      "source": [
        "dst_target=pd.DataFrame(dst_target)\n",
        "dst_target.to_csv('dst_target_2023_02_17.csv')"
      ],
      "metadata": {
        "id": "H33ifUR3gPP2"
      },
      "execution_count": null,
      "outputs": []
    },
    {
      "cell_type": "code",
      "execution_count": null,
      "metadata": {
        "id": "B215J7y6jF8C"
      },
      "outputs": [],
      "source": [
        "#X=X.iloc[:,[0,1,3,5,6,7,8,11]]\n",
        "data = pd.read_csv('complete_dataset_cleaned_new.csv')\n",
        "data.pop('Pkey')\n",
        "data.pop('human_development_index')\n",
        "data.pop('gdp_percentage_weekly')\n",
        "data=data[data.location!='Romania']\n",
        "data=data[data.location!='Latvia']\n",
        "data=data[data.location!='Estonia']\n",
        "data=data[data.location!='Ireland']\n",
        "data=data[data.location!='Switzerland']\n",
        "data=data[data.location!='Malta']\n",
        "\n",
        "data=data.iloc[:,:-2]\n",
        "data=data.iloc[:,1:]\n",
        "data.head()\n",
        "data"
      ]
    },
    {
      "cell_type": "code",
      "execution_count": null,
      "metadata": {
        "id": "pbmTxVSQS9B-"
      },
      "outputs": [],
      "source": [
        "temp=data.groupby('location').mean()\n",
        "available=temp.index\n",
        "available"
      ]
    },
    {
      "cell_type": "code",
      "execution_count": null,
      "metadata": {
        "id": "lEXrH42dPO0w"
      },
      "outputs": [],
      "source": [
        "dst_target=dst_target.loc[dst_target.index.isin(available)]"
      ]
    },
    {
      "cell_type": "code",
      "execution_count": null,
      "metadata": {
        "id": "B4TCQjfOVCi6"
      },
      "outputs": [],
      "source": [
        "dst_target"
      ]
    },
    {
      "cell_type": "code",
      "source": [
        "dst_target2=pd.DataFrame(dst_target)\n",
        "dst_target.to_csv('dst_target2_2023_02_17.csv')"
      ],
      "metadata": {
        "id": "a42bJ5MKgwtU"
      },
      "execution_count": null,
      "outputs": []
    },
    {
      "cell_type": "markdown",
      "metadata": {
        "id": "hhL5wFgzV_Qz"
      },
      "source": [
        "#**Selecting Closest Country**"
      ]
    },
    {
      "cell_type": "code",
      "execution_count": null,
      "metadata": {
        "id": "2SK3irV9Yj5Z"
      },
      "outputs": [],
      "source": [
        "c=dst_target.index\n",
        "n1=c[0]"
      ]
    },
    {
      "cell_type": "code",
      "execution_count": null,
      "metadata": {
        "id": "WDn5kPEa72J4"
      },
      "outputs": [],
      "source": [
        "n1"
      ]
    },
    {
      "cell_type": "code",
      "execution_count": null,
      "metadata": {
        "id": "tXiL3jOAZKbs"
      },
      "outputs": [],
      "source": [
        "data1=data[data['location']==n1]\n",
        "data1.pop('location')\n",
        "data1.index=data1.date\n",
        "data1.pop('date')\n",
        "data1"
      ]
    },
    {
      "cell_type": "code",
      "execution_count": null,
      "metadata": {
        "id": "41FTA2zaF0yD"
      },
      "outputs": [],
      "source": [
        "a=data1.index\n",
        "b=data1.columns\n",
        "data1=pd.DataFrame(scaler.transform(data1))\n",
        "data1.index=a\n",
        "data1.columns=b\n",
        "df=data1.iloc[:,[0,1,2,3,4,5,13]]\n",
        "df=clean_dataset(df)\n",
        "df"
      ]
    },
    {
      "cell_type": "code",
      "execution_count": null,
      "metadata": {
        "id": "_pzE1f82ERBX"
      },
      "outputs": [],
      "source": [
        "#data2=unclean_data.iloc[:,3:]\n",
        "#data2.head()"
      ]
    },
    {
      "cell_type": "markdown",
      "metadata": {
        "id": "W-IaMWImBmmb"
      },
      "source": [
        "# **Plot Your Data**"
      ]
    },
    {
      "cell_type": "code",
      "execution_count": null,
      "metadata": {
        "id": "DcwpgLwFBkC6"
      },
      "outputs": [],
      "source": [
        "df.icu_patients_per_million.plot(figsize=(12,5), label=n1)\n",
        "plt.legend(loc=\"upper right\")\n"
      ]
    },
    {
      "cell_type": "markdown",
      "metadata": {
        "id": "EO1NfGd5LDwf"
      },
      "source": [
        "# **Check For Stationarity**"
      ]
    },
    {
      "cell_type": "code",
      "execution_count": null,
      "metadata": {
        "id": "wLx71KF2LCp5"
      },
      "outputs": [],
      "source": [
        "from statsmodels.tsa.stattools import adfuller\n",
        "\n",
        "def adf_test(dataset):\n",
        "  dftest = adfuller(dataset, autolag = 'AIC')\n",
        "  print(\"1. ADF : \",dftest[0])\n",
        "  print(\"2. P-Value : \", dftest[1])\n",
        "  print(\"3. Num Of Lags : \", dftest[2])\n",
        "  print(\"4. Num Of Observations Used For ADF Regression and Critical Values Calculation :\", dftest[3])\n",
        "  print(\"5. Critical Values :\")\n",
        "  for key, val in dftest[4].items():\n",
        "      print(\"\\t\",key, \": \", val)"
      ]
    },
    {
      "cell_type": "code",
      "execution_count": null,
      "metadata": {
        "id": "2VTyxXjoLLHR"
      },
      "outputs": [],
      "source": [
        "adf_test(df['icu_patients_per_million'])"
      ]
    },
    {
      "cell_type": "markdown",
      "metadata": {
        "id": "mvL_vnbqLPtT"
      },
      "source": [
        "# **Model for country 1**"
      ]
    },
    {
      "cell_type": "code",
      "execution_count": null,
      "metadata": {
        "id": "QBCss7uBuSTp"
      },
      "outputs": [],
      "source": [
        "pip install pmdarima"
      ]
    },
    {
      "cell_type": "code",
      "execution_count": null,
      "metadata": {
        "id": "vAlGUKHqLO-P"
      },
      "outputs": [],
      "source": [
        "from statsmodels.tsa.statespace.sarimax import SARIMAX\n",
        "from pmdarima import auto_arima\n",
        "# Ignore harmless warnings\n",
        "import warnings\n",
        "warnings.filterwarnings(\"ignore\")"
      ]
    },
    {
      "cell_type": "code",
      "execution_count": null,
      "metadata": {
        "id": "hWW9vjG1mW-w"
      },
      "outputs": [],
      "source": [
        "#stepwise_fit = auto_arima(df['icu_patients_per_million'],exog=df.iloc[:,0:4], start_P=1,start_Q=1, start_D=1, m=14  ,trace=True, seasonal=True, suppress_warnings=True,information_criterion='aicc', alpha=0.01 )\n",
        "print(df.shape)\n",
        "train=df.iloc[:-90,:]\n",
        "test=df.iloc[-90:,:]\n",
        "print(train.shape,test.shape)\n",
        "#print(test.iloc[0],test.iloc[-1])"
      ]
    },
    {
      "cell_type": "code",
      "execution_count": null,
      "metadata": {
        "id": "gNkG7ATusw_Y"
      },
      "outputs": [],
      "source": [
        "modela=SARIMAX(endog=train['icu_patients_per_million'],exog=train.iloc[:,0:4] ,order=(2,0,3),seasonal_order=(0,0,0,14) )\n",
        "modela=modela.fit()\n",
        "modela.summary()\n",
        "start=len(train)\n",
        "end=len(train)+len(test)-1\n",
        "pred=modela.predict(exog=test.iloc[:,0:4],start=start,end=end)\n",
        "pred.index=df.index[start:end+1]\n",
        "print(len(pred))\n",
        "pred.plot(legend='SARIMAX Predictions')\n",
        "test['icu_patients_per_million'].plot(legend=True)\n",
        "test['icu_patients_per_million'].mean()\n",
        "from sklearn.metrics import mean_squared_error\n",
        "rmse=mean_squared_error(pred,test['icu_patients_per_million'])\n",
        "print(rmse)"
      ]
    },
    {
      "cell_type": "markdown",
      "metadata": {
        "id": "ij8c66dHxg9v"
      },
      "source": [
        "## **PREPING DATA FOR ANN**\n"
      ]
    },
    {
      "cell_type": "code",
      "execution_count": null,
      "metadata": {
        "id": "zauro0eqxkPI"
      },
      "outputs": [],
      "source": [
        "predicted_list, error_list = [], []\n",
        "training_data = train\n",
        "modela = SARIMAX(endog=train['icu_patients_per_million'],exog=train.iloc[:,0:4] ,order=(2,0,3),seasonal_order=(0,0,0,14))\n",
        "model_fit = modela.fit()\n",
        "for t in range(len(test)):\n",
        "    predicted_value = pred[t]\n",
        "    error_list.append(test.iloc[t,-1]-predicted_value)\n",
        "    predicted_list.append(predicted_value)\n",
        "    obs = test.iloc[t,-1]\n",
        "    training_data[t]=obs\n",
        "\n",
        "error = mean_squared_error(test.iloc[0:90,-1], predicted_list[0:90])\n",
        "print(error)\n",
        "training_error = model_fit.resid\n",
        "training_error=np.array(training_error)"
      ]
    },
    {
      "cell_type": "markdown",
      "metadata": {
        "id": "pp6kDHZex09J"
      },
      "source": [
        "##**Building ann model to predict error by seeing the previous 7 day error in prediction**"
      ]
    },
    {
      "cell_type": "code",
      "execution_count": null,
      "metadata": {
        "id": "IrdbDs9Hx5KY"
      },
      "outputs": [],
      "source": [
        "from keras.models import Sequential\n",
        "from keras.layers import Dense,Activation\n",
        "from sklearn import preprocessing\n",
        "from sklearn.metrics import mean_squared_error as mse\n",
        "model = Sequential()\n",
        "model.add(Dense(50, input_dim=7, activation=\"tanh\"))\n",
        "model.add(Dense(25,  activation=\"tanh\"))\n",
        "model.add(Dense(1))\n",
        "model.add(Activation(\"linear\"))\n",
        "model.compile(loss='mean_squared_error', optimizer='SGD')\n",
        "train_X,train_Y = [],[]\n",
        "for i in range(0 , len(training_error) - 7):\n",
        "    train_X.append(training_error[i:i+7])\n",
        "    train_Y.append(training_error[i+7])\n",
        "\n",
        "train_X=np.array(train_X)\n",
        "train_Y=np.array(train_Y)\n",
        "new_train_X,new_train_Y = [],[]\n",
        "for i in train_X:\n",
        "    new_train_X.append(i.reshape(-1))\n",
        "for i in train_Y:\n",
        "    new_train_Y.append(i.reshape(-1))\n",
        "new_train_X = np.array(new_train_X)\n",
        "new_train_Y = np.array(new_train_Y)\n",
        "model.fit(new_train_X,new_train_Y, epochs=100, batch_size=20,verbose=1)\n",
        "test_data = []\n",
        "for i in error_list:\n",
        "    try:\n",
        "        test_data.append(i[0])\n",
        "    except:\n",
        "        test_data.append(i)\n",
        "test_data = np.array(test_data)"
      ]
    },
    {
      "cell_type": "code",
      "execution_count": null,
      "metadata": {
        "id": "-T9HCT4CyR2u"
      },
      "outputs": [],
      "source": [
        "test_X,test_Y = [],[]\n",
        "for i in range(0 , len(test_data) - 7):\n",
        "    test_X.append(test_data[i:i+7])\n",
        "    test_Y.append(test_data[i+7])\n",
        "\n",
        "new_test_X,new_test_Y = [],[]\n",
        "for i in test_X:\n",
        "    new_test_X.append(i.reshape(-1))\n",
        "for i in test_Y:\n",
        "    new_test_Y.append(i.reshape(-1))\n",
        "new_test_X = np.array(new_test_X)\n",
        "new_test_Y = np.array(new_test_Y)\n",
        "\n",
        "predictions = model.predict(new_test_X)\n",
        "\n",
        "Y = pd.DataFrame(new_test_Y)\n",
        "pred = pd.DataFrame(predictions)\n",
        "\n",
        "import matplotlib.pyplot as plt\n",
        "plt.plot(predictions , color = 'r')\n",
        "plt.show()\n",
        "error = mse(test_data[7:],predictions)\n",
        "print(error)"
      ]
    },
    {
      "cell_type": "code",
      "execution_count": null,
      "metadata": {
        "id": "Ywf0IMxA1Wt4"
      },
      "outputs": [],
      "source": [
        "pred"
      ]
    },
    {
      "cell_type": "code",
      "execution_count": null,
      "metadata": {
        "id": "v66O3MrQyjDg"
      },
      "outputs": [],
      "source": [
        "plt.plot(Y)\n",
        "plt.plot(pred , color = 'r')\n",
        "#p.plot()\n",
        "plt.show()\n",
        "error = mse(test_data[7:],predictions)\n",
        "print(error)"
      ]
    },
    {
      "cell_type": "markdown",
      "metadata": {
        "id": "qWlFH_jd_DwJ"
      },
      "source": []
    },
    {
      "cell_type": "markdown",
      "metadata": {
        "id": "BIVE2kVNym5P"
      },
      "source": [
        "##**Calculating the sum of prediction value by SARIMAX and amount error by the ann***"
      ]
    },
    {
      "cell_type": "code",
      "execution_count": null,
      "metadata": {
        "id": "EPwaKVluyrx4"
      },
      "outputs": [],
      "source": [
        "pred=np.array(pred)\n",
        "pred= pred.tolist()\n",
        "l= len(pred)\n",
        "pred_final=[]\n",
        "for i in range(l):\n",
        " temp = pred[i] + predicted_list[i]\n",
        " pred_final.append(temp)\n",
        "error = mse(test.iloc[:83,-1],pred_final)\n",
        "print(error)\n",
        "Y = pd.DataFrame(test.iloc[7:,-1])\n",
        "pred = pd.DataFrame(pred_final)\n",
        "plt.plot(Y)\n",
        "plt.plot(pred , color = 'r')\n",
        "plt.rcParams['figure.figsize'] = [20, 5]\n",
        "#p.plot()\n",
        "plt.show()"
      ]
    },
    {
      "cell_type": "markdown",
      "metadata": {
        "id": "nD0a5j6i4tak"
      },
      "source": [
        "# **Predicting for new country using 1NN**\n"
      ]
    },
    {
      "cell_type": "code",
      "execution_count": null,
      "metadata": {
        "id": "fZaB5rz35c97"
      },
      "outputs": [],
      "source": [
        "unclean_data"
      ]
    },
    {
      "cell_type": "code",
      "execution_count": null,
      "metadata": {
        "id": "FdoYpAU74rfa"
      },
      "outputs": [],
      "source": [
        "data4=unclean_data[unclean_data.location=='Poland']\n",
        "data4.pop('Pkey')\n",
        "#data4.pop('human_development_index')\n",
        "#data4.pop('gdp_percentage_weekly')\n",
        "data4=data4.iloc[:,1:]\n",
        "data4.pop('location')\n",
        "data4.index=data4.date\n",
        "data4.pop('date')\n"
      ]
    },
    {
      "cell_type": "code",
      "execution_count": null,
      "metadata": {
        "id": "3itMp73I32r-"
      },
      "outputs": [],
      "source": [
        "a=data4.index\n",
        "b=data4.columns\n",
        "data4=pd.DataFrame(scaler.transform(data4))\n",
        "data4.index=a\n",
        "data4.columns=b\n"
      ]
    },
    {
      "cell_type": "code",
      "execution_count": null,
      "metadata": {
        "id": "tkTPMDVH56BD"
      },
      "outputs": [],
      "source": [
        "df=data4.iloc[:,[0,1,2,3,4,5,13]]\n"
      ]
    },
    {
      "cell_type": "code",
      "execution_count": null,
      "metadata": {
        "id": "NuZwjNm3SfZh"
      },
      "outputs": [],
      "source": [
        "df"
      ]
    },
    {
      "cell_type": "code",
      "execution_count": null,
      "metadata": {
        "id": "iegGtk2v7Zcs"
      },
      "outputs": [],
      "source": [
        "df=df.iloc[:,:-1]\n",
        "df=clean_dataset(df)\n",
        "\n",
        "#Severity\n",
        "#df.iloc[:,1]=df.iloc[:,1]*10\n",
        "#reproduction rate\n",
        "#df.iloc[:,2]=df.iloc[:,2]*2\n",
        "\n",
        "traini=df.iloc[:-90,:]\n",
        "testi=df.iloc[-90:,:]"
      ]
    },
    {
      "cell_type": "code",
      "execution_count": null,
      "metadata": {
        "id": "3UUopjPTskjK"
      },
      "outputs": [],
      "source": [
        "modela=SARIMAX(endog=train['icu_patients_per_million'],exog=train.iloc[:,0:4] ,order=(2,0,3),seasonal_order=(0,0,0,14) )\n",
        "modela=modela.fit()\n",
        "modela.summary()\n",
        "start=len(traini)\n",
        "end=len(traini)+len(testi)-1\n",
        "pred=modela.predict(exog=testi.iloc[:,0:4],start=start,end=end)\n",
        "pred.index=df.index[start:end+1]\n",
        "pred.plot(legend='SARIMAX Predictions')"
      ]
    },
    {
      "cell_type": "code",
      "execution_count": null,
      "metadata": {
        "id": "jcxNmOMIlk54"
      },
      "outputs": [],
      "source": [
        "pred=pd.DataFrame(pred)\n",
        "pred=pred.iloc[7:,:]\n",
        "predictions=pd.DataFrame(predictions)\n",
        "predictions.values.tolist()\n",
        "predictions=predictions[0]\n",
        "predictions.values.tolist()\n",
        "pred\n"
      ]
    },
    {
      "cell_type": "code",
      "execution_count": null,
      "metadata": {
        "id": "703o-keweTeI"
      },
      "outputs": [],
      "source": [
        "pred=np.array(pred)\n",
        "pred= pred.tolist()\n",
        "l= len(pred)\n",
        "pred_final=[]\n",
        "for i in range(l):\n",
        " temp = pred[i] + predictions[i]\n",
        " pred_final.append(temp)\n",
        " print(temp)\n",
        "#error = mse(test.iloc[:23,-1],pred_final)\n",
        "#print(error)\n",
        "#Y = pd.DataFrame(testi.iloc[7:,-1])\n",
        "\n",
        "\n",
        "#plt.plot(pred_final , color = 'r')\n",
        "#plt.show()"
      ]
    },
    {
      "cell_type": "code",
      "execution_count": null,
      "metadata": {
        "id": "12_LZdEKYvDK"
      },
      "outputs": [],
      "source": [
        "p1=pred_final"
      ]
    },
    {
      "cell_type": "code",
      "execution_count": null,
      "metadata": {
        "id": "JCPK2SsQYxvS"
      },
      "outputs": [],
      "source": [
        "plt.plot(pred_final , label=\"SARIMAX+ANN\", color = 'r')\n",
        "plt.plot(pred , label=\"SARIMAX\", color = 'b')\n",
        "\n",
        "plt.show()"
      ]
    },
    {
      "cell_type": "markdown",
      "metadata": {
        "id": "n9LsnLo_v5LS"
      },
      "source": [
        "# **Model for country 2**"
      ]
    },
    {
      "cell_type": "code",
      "execution_count": null,
      "metadata": {
        "id": "n0zTEgC1wTfg"
      },
      "outputs": [],
      "source": [
        "n2=c[1]\n",
        "n2"
      ]
    },
    {
      "cell_type": "code",
      "execution_count": null,
      "metadata": {
        "id": "iIIEvDHuwPuI"
      },
      "outputs": [],
      "source": [
        "data5=data[data['location']==n2]\n",
        "data5.pop('location')\n",
        "data5.index=data5.date\n",
        "data5.pop('date')"
      ]
    },
    {
      "cell_type": "code",
      "execution_count": null,
      "metadata": {
        "id": "dDB8YT2ZxsJh"
      },
      "outputs": [],
      "source": [
        "a=data5.index\n",
        "b=data5.columns\n",
        "data5=pd.DataFrame(scaler.transform(data5))\n",
        "data5.index=a\n",
        "data5.columns=b\n",
        "df2=data5.iloc[:,[0,1,2,3,4,5,13]]\n",
        "df2=clean_dataset(df2)\n",
        "df2"
      ]
    },
    {
      "cell_type": "code",
      "execution_count": null,
      "metadata": {
        "id": "OwjX3wOOv5LT"
      },
      "outputs": [],
      "source": [
        "#stepwise_fit = auto_arima(df2['icu_patients_per_million'],exog=df2.iloc[:,0:4], start_P=1,start_Q=1, start_D=1, m=14  ,trace=True, seasonal=True,suppress_warnings=True,information_criterion='aicc', alpha=0.01 )\n",
        "print(df2.shape)\n",
        "train=df2.iloc[:-90,:]\n",
        "test=df2.iloc[-90:,:]\n",
        "print(train.shape,test.shape)\n",
        "#print(test.iloc[0],test.iloc[-1])"
      ]
    },
    {
      "cell_type": "code",
      "execution_count": null,
      "metadata": {
        "id": "0Q7h4YILv5LU"
      },
      "outputs": [],
      "source": [
        "modela=SARIMAX(endog=train['icu_patients_per_million'],exog=train.iloc[:,0:4] ,order=(2,0,4),seasonal_order=(2,0,2,14) )\n",
        "modela=modela.fit()\n",
        "modela.summary()\n",
        "start=len(train)\n",
        "end=len(train)+len(test)-1\n",
        "pred=modela.predict(exog=test.iloc[:,0:4],start=start,end=end)\n",
        "pred.index=df2.index[start:end+1]\n",
        "print(len(pred))\n",
        "pred.plot(legend='SARIMAX Predictions')\n",
        "test['icu_patients_per_million'].plot(legend=True)\n",
        "test['icu_patients_per_million'].mean()\n",
        "from sklearn.metrics import mean_squared_error\n",
        "\n",
        "rmse=mean_squared_error(pred,test['icu_patients_per_million'])\n",
        "print(rmse)"
      ]
    },
    {
      "cell_type": "markdown",
      "metadata": {
        "id": "X5pf8VHwv5LU"
      },
      "source": [
        "## **PREPING DATA FOR ANN**\n"
      ]
    },
    {
      "cell_type": "code",
      "execution_count": null,
      "metadata": {
        "id": "xBPsQh_9v5LU"
      },
      "outputs": [],
      "source": [
        "predicted_list, error_list = [], []\n",
        "training_data = train\n",
        "modela = SARIMAX(endog=train['icu_patients_per_million'],exog=train.iloc[:,0:4] ,order=(2,0,4),seasonal_order=(2,0,2,14))\n",
        "model_fit = modela.fit()\n",
        "for t in range(len(test)):\n",
        "    predicted_value = pred[t]\n",
        "    error_list.append(test.iloc[t,-1]-predicted_value)\n",
        "    predicted_list.append(predicted_value)\n",
        "    obs = test.iloc[t,-1]\n",
        "    training_data[t]=obs\n",
        "\n",
        "error = mean_squared_error(test.iloc[0:90,-1], predicted_list[0:90])\n",
        "print(error)\n",
        "training_error = model_fit.resid\n",
        "training_error=np.array(training_error)"
      ]
    },
    {
      "cell_type": "markdown",
      "metadata": {
        "id": "kRXNz5azv5LU"
      },
      "source": [
        "##**Building ann model to predict error by seeing the previous 7 day error in prediction**"
      ]
    },
    {
      "cell_type": "code",
      "execution_count": null,
      "metadata": {
        "id": "E7aqjMAjv5LU"
      },
      "outputs": [],
      "source": [
        "from keras.models import Sequential\n",
        "from keras.layers import Dense,Activation\n",
        "from sklearn import preprocessing\n",
        "from sklearn.metrics import mean_squared_error as mse\n",
        "\n",
        "model = Sequential()\n",
        "model.add(Dense(50, input_dim=7, activation=\"tanh\"))\n",
        "model.add(Dense(25,  activation=\"tanh\"))\n",
        "model.add(Dense(1))\n",
        "model.add(Activation(\"linear\"))\n",
        "model.compile(loss='mean_squared_error', optimizer='SGD')\n",
        "train_X,train_Y = [],[]\n",
        "for i in range(0 , len(training_error) - 7):\n",
        "    train_X.append(training_error[i:i+7])\n",
        "    train_Y.append(training_error[i+7])\n",
        "\n",
        "train_X=np.array(train_X)\n",
        "train_Y=np.array(train_Y)\n",
        "new_train_X,new_train_Y = [],[]\n",
        "for i in train_X:\n",
        "    new_train_X.append(i.reshape(-1))\n",
        "for i in train_Y:\n",
        "    new_train_Y.append(i.reshape(-1))\n",
        "new_train_X = np.array(new_train_X)\n",
        "new_train_Y = np.array(new_train_Y)\n",
        "model.fit(new_train_X,new_train_Y, epochs=100, batch_size=20,verbose=1)\n",
        "test_data = []\n",
        "for i in error_list:\n",
        "    try:\n",
        "        test_data.append(i[0])\n",
        "    except:\n",
        "        test_data.append(i)\n",
        "test_data = np.array(test_data)"
      ]
    },
    {
      "cell_type": "code",
      "execution_count": null,
      "metadata": {
        "id": "N6MF_toiv5LV"
      },
      "outputs": [],
      "source": [
        "test_X,test_Y = [],[]\n",
        "for i in range(0 , len(test_data) - 7):\n",
        "    test_X.append(test_data[i:i+7])\n",
        "    test_Y.append(test_data[i+7])\n",
        "\n",
        "new_test_X,new_test_Y = [],[]\n",
        "for i in test_X:\n",
        "    new_test_X.append(i.reshape(-1))\n",
        "for i in test_Y:\n",
        "    new_test_Y.append(i.reshape(-1))\n",
        "new_test_X = np.array(new_test_X)\n",
        "new_test_Y = np.array(new_test_Y)\n",
        "\n",
        "predictions = model.predict(new_test_X)\n",
        "\n",
        "Y = pd.DataFrame(new_test_Y)\n",
        "pred = pd.DataFrame(predictions)\n",
        "\n",
        "import matplotlib.pyplot as plt\n",
        "plt.plot(predictions , color = 'r')\n",
        "plt.show()\n",
        "error = mse(test_data[7:],predictions)\n",
        "print(error)"
      ]
    },
    {
      "cell_type": "code",
      "execution_count": null,
      "metadata": {
        "id": "TAiP4TWiv5LV"
      },
      "outputs": [],
      "source": [
        "plt.plot(Y)\n",
        "plt.plot(pred , color = 'r')\n",
        "#p.plot()\n",
        "plt.show()\n",
        "error = mse(test_data[7:],predictions)\n",
        "print(error)"
      ]
    },
    {
      "cell_type": "markdown",
      "metadata": {
        "id": "jM-nEWAPv5LV"
      },
      "source": []
    },
    {
      "cell_type": "markdown",
      "metadata": {
        "id": "nzmoxwoKv5LV"
      },
      "source": [
        "##**Calculating the sum of prediction value by SARIMAX and amount error by the ann***"
      ]
    },
    {
      "cell_type": "code",
      "execution_count": null,
      "metadata": {
        "id": "JGeTTmARv5LV"
      },
      "outputs": [],
      "source": [
        "pred=np.array(pred)\n",
        "pred= pred.tolist()\n",
        "l= len(pred)\n",
        "pred_final=[]\n",
        "for i in range(l):\n",
        " temp = pred[i] + predicted_list[i]\n",
        " pred_final.append(temp)\n",
        "error = mse(test.iloc[:83,-1],pred_final)\n",
        "print(error)\n",
        "Y = pd.DataFrame(test.iloc[7:,-1])\n",
        "pred = pd.DataFrame(pred_final)\n",
        "plt.plot(Y)\n",
        "plt.plot(pred , color = 'r')\n",
        "plt.rcParams['figure.figsize'] = [20, 5]\n",
        "#p.plot()\n",
        "plt.show()"
      ]
    },
    {
      "cell_type": "markdown",
      "metadata": {
        "id": "4Y0kQWCvzmO8"
      },
      "source": [
        "# **Predicting for new country using 2NN**\n"
      ]
    },
    {
      "cell_type": "code",
      "execution_count": null,
      "metadata": {
        "id": "br1CE-dhzmPE"
      },
      "outputs": [],
      "source": [
        "unclean_data"
      ]
    },
    {
      "cell_type": "code",
      "execution_count": null,
      "metadata": {
        "id": "0D9KMc9tzmPE"
      },
      "outputs": [],
      "source": [
        "data4=unclean_data[unclean_data.location=='Poland']\n",
        "data4.pop('Pkey')\n",
        "#data4.pop('human_development_index')\n",
        "#data4.pop('gdp_percentage_weekly')\n",
        "data4=data4.iloc[:,1:]\n",
        "data4.pop('location')\n",
        "data4.index=data4.date\n",
        "data4.pop('date')\n",
        "data4"
      ]
    },
    {
      "cell_type": "code",
      "execution_count": null,
      "metadata": {
        "id": "3nzfBaPPzmPE"
      },
      "outputs": [],
      "source": [
        "a=data4.index\n",
        "b=data4.columns\n",
        "data4=pd.DataFrame(scaler.transform(data4))\n",
        "data4.index=a\n",
        "data4.columns=b\n",
        "data4"
      ]
    },
    {
      "cell_type": "code",
      "execution_count": null,
      "metadata": {
        "id": "Bzl-NPGMzmPF"
      },
      "outputs": [],
      "source": [
        "df=data4.iloc[:,[0,1,2,3,4,5,13]]\n",
        "df"
      ]
    },
    {
      "cell_type": "code",
      "execution_count": null,
      "metadata": {
        "id": "I3RWRIfKzmPF"
      },
      "outputs": [],
      "source": [
        "df=df.iloc[:,:-1]\n",
        "df=clean_dataset(df)\n",
        "#Severity\n",
        "#df.iloc[:,1]=df.iloc[:,1]*10\n",
        "\n",
        "#Reproduction Rate\n",
        "#df.iloc[:,2]=df.iloc[:,2]*2\n"
      ]
    },
    {
      "cell_type": "code",
      "execution_count": null,
      "metadata": {
        "id": "JstcbqpqzmPF"
      },
      "outputs": [],
      "source": [
        "traini=df.iloc[:-90,:]\n",
        "testi=df.iloc[-90:,:]"
      ]
    },
    {
      "cell_type": "code",
      "execution_count": null,
      "metadata": {
        "id": "i13G1mAOzmPF"
      },
      "outputs": [],
      "source": [
        "modela=SARIMAX(endog=train['icu_patients_per_million'],exog=train.iloc[:,0:4] ,order=(2,0,4),seasonal_order=(2,0,2,14) )\n",
        "modela=modela.fit()\n",
        "modela.summary()\n",
        "start=len(traini)\n",
        "end=len(traini)+len(testi)-1\n",
        "pred=modela.predict(exog=testi.iloc[:,0:4],start=start,end=end)\n",
        "pred.index=df.index[start:end+1]\n",
        "pred.plot(legend='SARIMAX Predictions')"
      ]
    },
    {
      "cell_type": "code",
      "execution_count": null,
      "metadata": {
        "id": "i27kKXnlzmPF"
      },
      "outputs": [],
      "source": [
        "pred=pd.DataFrame(pred)\n",
        "pred=pred.iloc[7:,:]\n",
        "predictions=pd.DataFrame(predictions)\n",
        "predictions.values.tolist()\n",
        "predictions=predictions[0]\n",
        "predictions.values.tolist()\n",
        "predictions\n"
      ]
    },
    {
      "cell_type": "code",
      "execution_count": null,
      "metadata": {
        "id": "4xjrQf66zmPG"
      },
      "outputs": [],
      "source": [
        "pred=np.array(pred)\n",
        "pred= pred.tolist()\n",
        "l= len(pred)\n",
        "pred_final=[]\n",
        "for i in range(l):\n",
        " temp = pred[i] + predictions[i]\n",
        " pred_final.append(temp)\n",
        " print(temp)\n",
        "error = mse(test.iloc[:83,-1],pred_final)\n",
        "print(error)\n",
        "Y = pd.DataFrame(testi.iloc[7:,-1])\n",
        "\n",
        "\n",
        "#plt.plot(pred_final , color = 'r')\n",
        "#plt.show()"
      ]
    },
    {
      "cell_type": "code",
      "execution_count": null,
      "metadata": {
        "id": "zolgzx80zmPG"
      },
      "outputs": [],
      "source": [
        "p2=pred_final"
      ]
    },
    {
      "cell_type": "code",
      "execution_count": null,
      "metadata": {
        "id": "1RSLdar5zmPG"
      },
      "outputs": [],
      "source": [
        "plt.plot(pred_final , label=\"SARIMAX+ANN\", color = 'r')\n",
        "plt.plot(pred , label=\"SARIMAX\", color = 'b')\n",
        "\n",
        "plt.show()"
      ]
    },
    {
      "cell_type": "markdown",
      "metadata": {
        "id": "phwr4prYnBeG"
      },
      "source": [
        "# **Model for country 3**"
      ]
    },
    {
      "cell_type": "code",
      "execution_count": null,
      "metadata": {
        "id": "lQ9PfR-fnBeG"
      },
      "outputs": [],
      "source": [
        "n3=c[2]\n",
        "n3"
      ]
    },
    {
      "cell_type": "code",
      "execution_count": null,
      "metadata": {
        "id": "22fSa_3YnBeG"
      },
      "outputs": [],
      "source": [
        "data6=data[data['location']==n3]\n",
        "data6.pop('location')\n",
        "data6.index=data6.date\n",
        "data6.pop('date')\n",
        "data6"
      ]
    },
    {
      "cell_type": "code",
      "execution_count": null,
      "metadata": {
        "id": "-hP2SNTknBeH"
      },
      "outputs": [],
      "source": [
        "a=data6.index\n",
        "b=data6.columns\n",
        "data6=pd.DataFrame(scaler.transform(data6))\n",
        "data6.index=a\n",
        "data6.columns=b\n",
        "df3=data6.iloc[:,[0,1,2,3,4,5,13]]\n",
        "df3=clean_dataset(df3)\n",
        "df3"
      ]
    },
    {
      "cell_type": "code",
      "execution_count": null,
      "metadata": {
        "id": "7QKOPdq5nBeH"
      },
      "outputs": [],
      "source": [
        "#stepwise_fit = auto_arima(df3['icu_patients_per_million'],exog=df3.iloc[:,0:4], start_P=1,start_Q=1, start_D=1, m=14  ,trace=True, seasonal=True,suppress_warnings=True,information_criterion='aicc', alpha=0.01 )\n",
        "print(df3.shape)\n",
        "train=df3.iloc[:-90,:]\n",
        "test=df3.iloc[-90:,:]\n",
        "print(train.shape,test.shape)\n",
        "#print(test.iloc[0],test.iloc[-1])"
      ]
    },
    {
      "cell_type": "code",
      "execution_count": null,
      "metadata": {
        "id": "aFknEc0KnBeH"
      },
      "outputs": [],
      "source": [
        "modela=SARIMAX(endog=train['icu_patients_per_million'],exog=train.iloc[:,0:4] ,order=(2,0,2),seasonal_order=(0,0,1,14) )\n",
        "modela=modela.fit()\n",
        "modela.summary()\n",
        "start=len(train)\n",
        "end=len(train)+len(test)-1\n",
        "pred=modela.predict(exog=test.iloc[:,0:4],start=start,end=end)\n",
        "pred.index=df3.index[start:end+1]\n",
        "print(len(pred))\n",
        "pred.plot(legend='SARIMAX Predictions')\n",
        "test['icu_patients_per_million'].plot(legend=True)\n",
        "test['icu_patients_per_million'].mean()\n",
        "from sklearn.metrics import mean_squared_error\n",
        "from math import sqrt\n",
        "rmse=mean_squared_error(pred,test['icu_patients_per_million'])\n",
        "print(rmse)"
      ]
    },
    {
      "cell_type": "markdown",
      "metadata": {
        "id": "nSZz-PJxnBeH"
      },
      "source": [
        "## **PREPING DATA FOR ANN**\n"
      ]
    },
    {
      "cell_type": "code",
      "execution_count": null,
      "metadata": {
        "id": "cO9CAfuxnBeH"
      },
      "outputs": [],
      "source": [
        "predicted_list, error_list = [], []\n",
        "training_data = train\n",
        "modela = SARIMAX(endog=train['icu_patients_per_million'],exog=train.iloc[:,0:4] ,order=(2,0,2),seasonal_order=(0,0,1,14))\n",
        "model_fit = modela.fit()\n",
        "for t in range(len(test)):\n",
        "    predicted_value = pred[t]\n",
        "    error_list.append(test.iloc[t,-1]-predicted_value)\n",
        "    predicted_list.append(predicted_value)\n",
        "    obs = test.iloc[t,-1]\n",
        "    training_data[t]=obs\n",
        "\n",
        "error = mean_squared_error(test.iloc[0:90,-1], predicted_list[0:90])\n",
        "print(error)\n",
        "training_error = model_fit.resid\n",
        "training_error=np.array(training_error)"
      ]
    },
    {
      "cell_type": "markdown",
      "metadata": {
        "id": "pOsy44NBnBeI"
      },
      "source": [
        "##**Building ann model to predict error by seeing the previous 7 day error in prediction**"
      ]
    },
    {
      "cell_type": "code",
      "execution_count": null,
      "metadata": {
        "id": "6v52UJpwnBeI"
      },
      "outputs": [],
      "source": [
        "from keras.models import Sequential\n",
        "from keras.layers import Dense,Activation\n",
        "from sklearn import preprocessing\n",
        "from sklearn.metrics import mean_squared_error as mse\n",
        "\n",
        "model = Sequential()\n",
        "model.add(Dense(50, input_dim=7, activation=\"tanh\"))\n",
        "model.add(Dense(25,  activation=\"tanh\"))\n",
        "model.add(Dense(1))\n",
        "model.add(Activation(\"linear\"))\n",
        "model.compile(loss='mean_squared_error', optimizer='SGD')\n",
        "train_X,train_Y = [],[]\n",
        "for i in range(0 , len(training_error) - 7):\n",
        "    train_X.append(training_error[i:i+7])\n",
        "    train_Y.append(training_error[i+7])\n",
        "\n",
        "train_X=np.array(train_X)\n",
        "train_Y=np.array(train_Y)\n",
        "new_train_X,new_train_Y = [],[]\n",
        "for i in train_X:\n",
        "    new_train_X.append(i.reshape(-1))\n",
        "for i in train_Y:\n",
        "    new_train_Y.append(i.reshape(-1))\n",
        "new_train_X = np.array(new_train_X)\n",
        "new_train_Y = np.array(new_train_Y)\n",
        "model.fit(new_train_X,new_train_Y, epochs=100, batch_size=20,verbose=1)\n",
        "test_data = []\n",
        "for i in error_list:\n",
        "    try:\n",
        "        test_data.append(i[0])\n",
        "    except:\n",
        "        test_data.append(i)\n",
        "test_data = np.array(test_data)"
      ]
    },
    {
      "cell_type": "code",
      "execution_count": null,
      "metadata": {
        "id": "k4gcOXgYnBeI"
      },
      "outputs": [],
      "source": [
        "test_X,test_Y = [],[]\n",
        "for i in range(0 , len(test_data) - 7):\n",
        "    test_X.append(test_data[i:i+7])\n",
        "    test_Y.append(test_data[i+7])\n",
        "\n",
        "new_test_X,new_test_Y = [],[]\n",
        "for i in test_X:\n",
        "    new_test_X.append(i.reshape(-1))\n",
        "for i in test_Y:\n",
        "    new_test_Y.append(i.reshape(-1))\n",
        "new_test_X = np.array(new_test_X)\n",
        "new_test_Y = np.array(new_test_Y)\n",
        "\n",
        "predictions = model.predict(new_test_X)\n",
        "\n",
        "Y = pd.DataFrame(new_test_Y)\n",
        "pred = pd.DataFrame(predictions)\n",
        "\n",
        "import matplotlib.pyplot as plt\n",
        "plt.plot(predictions , color = 'r')\n",
        "plt.show()\n",
        "error = mse(test_data[7:],predictions)\n",
        "print(error)"
      ]
    },
    {
      "cell_type": "code",
      "execution_count": null,
      "metadata": {
        "id": "CY1oR5CmnBeI"
      },
      "outputs": [],
      "source": [
        "plt.plot(Y)\n",
        "plt.plot(pred , color = 'r')\n",
        "#p.plot()\n",
        "plt.show()\n",
        "error = mse(test_data[7:],predictions)\n",
        "print(error)"
      ]
    },
    {
      "cell_type": "markdown",
      "metadata": {
        "id": "u7Zj1GaenBeI"
      },
      "source": []
    },
    {
      "cell_type": "markdown",
      "metadata": {
        "id": "pKODuDnAnBeI"
      },
      "source": [
        "##**Calculating the sum of prediction value by arima and amount error by the ann***"
      ]
    },
    {
      "cell_type": "code",
      "execution_count": null,
      "metadata": {
        "id": "ler-U_lynBeI"
      },
      "outputs": [],
      "source": [
        "pred=np.array(pred)\n",
        "pred= pred.tolist()\n",
        "l= len(pred)\n",
        "pred_final=[]\n",
        "for i in range(l):\n",
        " temp = pred[i] + predicted_list[i]\n",
        " pred_final.append(temp)\n",
        "error = mse(test.iloc[:83,-1],pred_final)\n",
        "print(error)\n",
        "Y = pd.DataFrame(test.iloc[7:,-1])\n",
        "pred = pd.DataFrame(pred_final)\n",
        "plt.plot(Y)\n",
        "plt.plot(pred , color = 'r')\n",
        "plt.rcParams['figure.figsize'] = [20, 5]\n",
        "#p.plot()\n",
        "plt.show()"
      ]
    },
    {
      "cell_type": "markdown",
      "metadata": {
        "id": "EXMnjqWzp19J"
      },
      "source": [
        "# **Predicting for new country using 3NN**\n"
      ]
    },
    {
      "cell_type": "code",
      "execution_count": null,
      "metadata": {
        "id": "j28JUzEop19K"
      },
      "outputs": [],
      "source": [
        "data4=unclean_data[unclean_data.location=='Poland']\n",
        "data4.pop('Pkey')\n",
        "#data4.pop('human_development_index')\n",
        "#data4.pop('gdp_percentage_weekly')\n",
        "data4=data4.iloc[:,1:]\n",
        "data4.pop('location')\n",
        "data4.index=data4.date\n",
        "data4.pop('date')\n"
      ]
    },
    {
      "cell_type": "code",
      "execution_count": null,
      "metadata": {
        "id": "l6ZUmxgGp19K"
      },
      "outputs": [],
      "source": [
        "a=data4.index\n",
        "b=data4.columns\n",
        "data4=pd.DataFrame(scaler.transform(data4))\n",
        "data4.index=a\n",
        "data4.columns=b"
      ]
    },
    {
      "cell_type": "code",
      "execution_count": null,
      "metadata": {
        "id": "qLaFp5Ulp19K"
      },
      "outputs": [],
      "source": [
        "df=data4.iloc[:,[0,1,2,3,4,5,13]]"
      ]
    },
    {
      "cell_type": "code",
      "execution_count": null,
      "metadata": {
        "id": "xYuSN5bnp19K"
      },
      "outputs": [],
      "source": [
        "df=df.iloc[:,:-1]\n",
        "df=clean_dataset(df)\n",
        "#Severity\n",
        "#df.iloc[:,1]=df.iloc[:,1]*10\n",
        "\n",
        "#Reproduction Rate\n",
        "#df.iloc[:,2]=df.iloc[:,2]*2\n"
      ]
    },
    {
      "cell_type": "code",
      "execution_count": null,
      "metadata": {
        "id": "98cb2WwNp19K"
      },
      "outputs": [],
      "source": [
        "traini=df.iloc[:-90,:]\n",
        "testi=df.iloc[-90:,:]"
      ]
    },
    {
      "cell_type": "code",
      "execution_count": null,
      "metadata": {
        "id": "MiScFEVlp19L"
      },
      "outputs": [],
      "source": [
        "modela=SARIMAX(endog=train['icu_patients_per_million'],exog=train.iloc[:,0:4] ,order=(2,0,2),seasonal_order=(0,0,1,14) )\n",
        "modela=modela.fit()\n",
        "start=len(traini)\n",
        "end=len(traini)+len(testi)-1\n",
        "pred=modela.predict(exog=test.iloc[:,0:4], start=start, end=end)\n",
        "\n",
        "#pred.index=df.index[start:end+1]\n",
        "pred.plot(legend='SARIMAX Predictions')\n"
      ]
    },
    {
      "cell_type": "code",
      "execution_count": null,
      "metadata": {
        "id": "w8WBn9mCp19L"
      },
      "outputs": [],
      "source": [
        "pred=pd.DataFrame(pred)\n",
        "pred=pred.iloc[7:,:]\n",
        "predictions=pd.DataFrame(predictions)\n",
        "predictions.values.tolist()\n",
        "predictions=predictions[0]\n",
        "predictions.values.tolist()\n",
        "predictions\n"
      ]
    },
    {
      "cell_type": "code",
      "execution_count": null,
      "metadata": {
        "id": "vzB1JcUup19L"
      },
      "outputs": [],
      "source": [
        "pred=np.array(pred)\n",
        "pred= pred.tolist()\n",
        "l= len(pred)\n",
        "pred_final=[]\n",
        "for i in range(l):\n",
        " temp = pred[i] + predictions[i]\n",
        " pred_final.append(temp)\n",
        " print(temp)\n",
        "error = mse(test.iloc[:83,-1],pred_final)\n",
        "print(error)\n",
        "Y = pd.DataFrame(testi.iloc[7:,-1])\n",
        "\n",
        "\n",
        "plt.plot(pred_final , color = 'r')\n",
        "plt.show()"
      ]
    },
    {
      "cell_type": "code",
      "execution_count": null,
      "metadata": {
        "id": "wh9QkXHxp19L"
      },
      "outputs": [],
      "source": [
        "p3=pred_final\n",
        "pred_final"
      ]
    },
    {
      "cell_type": "code",
      "execution_count": null,
      "metadata": {
        "id": "Ii2W2UCWp19L"
      },
      "outputs": [],
      "source": [
        "plt.plot(pred_final , label=\"SARIMAX+ANN\", color = 'r')\n",
        "plt.plot(pred , label=\"SARIMAX\", color = 'b')\n",
        "\n",
        "plt.show()"
      ]
    },
    {
      "cell_type": "markdown",
      "metadata": {
        "id": "s0t9xTKsPdwj"
      },
      "source": [
        "#**Exporting Results**"
      ]
    },
    {
      "cell_type": "code",
      "execution_count": null,
      "metadata": {
        "id": "C49DFIHn-mpF"
      },
      "outputs": [],
      "source": [
        "tmp=data1.iloc[-83:,:]"
      ]
    },
    {
      "cell_type": "code",
      "execution_count": null,
      "metadata": {
        "id": "MVXdezLm_Ja2"
      },
      "outputs": [],
      "source": [
        "p1=list(p1)\n",
        "p2=list(p2)\n",
        "p3=list(p3)"
      ]
    },
    {
      "cell_type": "code",
      "execution_count": null,
      "metadata": {
        "id": "t_lIthQINDit"
      },
      "outputs": [],
      "source": [
        "tmp"
      ]
    },
    {
      "cell_type": "code",
      "execution_count": null,
      "metadata": {
        "id": "dnV4Jkep8ukA"
      },
      "outputs": [],
      "source": [
        "i=0\n",
        "for row,index in tmp.iterrows():\n",
        "  tmp.iloc[i,13]=p1[i]\n",
        "  i=i+1\n",
        "jnk=pd.DataFrame(scaler.inverse_transform(tmp))\n",
        "p1=jnk.iloc[:,-1]\n",
        "p1"
      ]
    },
    {
      "cell_type": "code",
      "execution_count": null,
      "metadata": {
        "id": "2G6mJ2de0hPK"
      },
      "outputs": [],
      "source": [
        "i=0\n",
        "for row,index in tmp.iterrows():\n",
        "  tmp.iloc[i,13]=p2[i]\n",
        "  i=i+1\n",
        "jnk=pd.DataFrame(scaler.inverse_transform(tmp))\n",
        "p2=jnk.iloc[:,-1]\n",
        "p2"
      ]
    },
    {
      "cell_type": "code",
      "execution_count": null,
      "metadata": {
        "id": "w3J4L3740jqh"
      },
      "outputs": [],
      "source": [
        "i=0\n",
        "for row,index in tmp.iterrows():\n",
        "  tmp.iloc[i,13]=p3[i]\n",
        "  i=i+1\n",
        "jnk=pd.DataFrame(scaler.inverse_transform(tmp))\n",
        "p3=jnk.iloc[:,-1]\n",
        "p3"
      ]
    },
    {
      "cell_type": "code",
      "execution_count": null,
      "metadata": {
        "id": "dAABNQcgrFGt"
      },
      "outputs": [],
      "source": [
        "plt.plot(p1)\n",
        "plt.plot(p2)\n",
        "plt.plot(p3)\n",
        "plt.show()"
      ]
    },
    {
      "cell_type": "code",
      "execution_count": null,
      "metadata": {
        "id": "n_t_lM84JyNz"
      },
      "outputs": [],
      "source": [
        "final={c[0]:p1,c[1]:p2,c[2]:p3}\n",
        "final=pd.DataFrame(final)\n",
        "final.to_csv('Output_2023_01_31.csv')"
      ]
    }
  ],
  "metadata": {
    "colab": {
      "collapsed_sections": [
        "tmXE9YxBHLWc",
        "2oQzPz6EVs9t",
        "hhL5wFgzV_Qz",
        "W-IaMWImBmmb",
        "EO1NfGd5LDwf",
        "n9LsnLo_v5LS",
        "phwr4prYnBeG"
      ],
      "provenance": [],
      "authorship_tag": "ABX9TyMwdtYuqoLaMYJSi82FTmlW",
      "include_colab_link": true
    },
    "kernelspec": {
      "display_name": "Python 3",
      "name": "python3"
    },
    "language_info": {
      "name": "python"
    }
  },
  "nbformat": 4,
  "nbformat_minor": 0
}